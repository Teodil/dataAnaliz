{
 "cells": [
  {
   "cell_type": "markdown",
   "metadata": {},
   "source": [
    "# 1. Качественная результирующая переменная, количественный фактор. Количественная результирующая переменная, качественный фактор\n"
   ]
  },
  {
   "cell_type": "markdown",
   "metadata": {},
   "source": [
    "## 1.1 t-тест Стьюдента"
   ]
  },
  {
   "cell_type": "markdown",
   "metadata": {},
   "source": [
    "### 1.1.1 Two-Sample T-Test (независимый, двухвыборочный t-тест Стьюдента)"
   ]
  },
  {
   "cell_type": "code",
   "execution_count": 1,
   "metadata": {},
   "outputs": [],
   "source": [
    "# импорт библиотек\n",
    "import numpy as np\n",
    "import pandas as pd\n",
    "import scipy.stats as stats\n",
    "import matplotlib.pyplot as plt\n",
    "import math\n",
    "import seaborn as sns"
   ]
  },
  {
   "cell_type": "code",
   "execution_count": 2,
   "metadata": {},
   "outputs": [
    {
     "data": {
      "text/html": [
       "<div>\n",
       "<style scoped>\n",
       "    .dataframe tbody tr th:only-of-type {\n",
       "        vertical-align: middle;\n",
       "    }\n",
       "\n",
       "    .dataframe tbody tr th {\n",
       "        vertical-align: top;\n",
       "    }\n",
       "\n",
       "    .dataframe thead th {\n",
       "        text-align: right;\n",
       "    }\n",
       "</style>\n",
       "<table border=\"1\" class=\"dataframe\">\n",
       "  <thead>\n",
       "    <tr style=\"text-align: right;\">\n",
       "      <th></th>\n",
       "      <th>Open</th>\n",
       "      <th>High</th>\n",
       "      <th>Low</th>\n",
       "      <th>Close</th>\n",
       "      <th>Volume</th>\n",
       "      <th>Dividends</th>\n",
       "      <th>Stock Splits</th>\n",
       "      <th>Date</th>\n",
       "      <th>isRising</th>\n",
       "    </tr>\n",
       "  </thead>\n",
       "  <tbody>\n",
       "    <tr>\n",
       "      <th>0</th>\n",
       "      <td>52.611363</td>\n",
       "      <td>52.960361</td>\n",
       "      <td>50.439822</td>\n",
       "      <td>51.147511</td>\n",
       "      <td>25611100</td>\n",
       "      <td>0.0</td>\n",
       "      <td>0</td>\n",
       "      <td>2021-01-04</td>\n",
       "      <td>0</td>\n",
       "    </tr>\n",
       "    <tr>\n",
       "      <th>1</th>\n",
       "      <td>50.730656</td>\n",
       "      <td>51.492006</td>\n",
       "      <td>50.439822</td>\n",
       "      <td>50.585239</td>\n",
       "      <td>20323800</td>\n",
       "      <td>0.0</td>\n",
       "      <td>0</td>\n",
       "      <td>2021-01-05</td>\n",
       "      <td>0</td>\n",
       "    </tr>\n",
       "    <tr>\n",
       "      <th>2</th>\n",
       "      <td>50.381660</td>\n",
       "      <td>50.430131</td>\n",
       "      <td>48.656059</td>\n",
       "      <td>48.975975</td>\n",
       "      <td>38724500</td>\n",
       "      <td>0.0</td>\n",
       "      <td>0</td>\n",
       "      <td>2021-01-06</td>\n",
       "      <td>0</td>\n",
       "    </tr>\n",
       "    <tr>\n",
       "      <th>3</th>\n",
       "      <td>48.559114</td>\n",
       "      <td>48.723917</td>\n",
       "      <td>48.006535</td>\n",
       "      <td>48.433086</td>\n",
       "      <td>53225700</td>\n",
       "      <td>0.0</td>\n",
       "      <td>0</td>\n",
       "      <td>2021-01-07</td>\n",
       "      <td>1</td>\n",
       "    </tr>\n",
       "    <tr>\n",
       "      <th>4</th>\n",
       "      <td>48.500948</td>\n",
       "      <td>49.567331</td>\n",
       "      <td>48.316756</td>\n",
       "      <td>49.518860</td>\n",
       "      <td>29674000</td>\n",
       "      <td>0.0</td>\n",
       "      <td>0</td>\n",
       "      <td>2021-01-08</td>\n",
       "      <td>0</td>\n",
       "    </tr>\n",
       "    <tr>\n",
       "      <th>...</th>\n",
       "      <td>...</td>\n",
       "      <td>...</td>\n",
       "      <td>...</td>\n",
       "      <td>...</td>\n",
       "      <td>...</td>\n",
       "      <td>...</td>\n",
       "      <td>...</td>\n",
       "      <td>...</td>\n",
       "      <td>...</td>\n",
       "    </tr>\n",
       "    <tr>\n",
       "      <th>264</th>\n",
       "      <td>61.000000</td>\n",
       "      <td>61.439999</td>\n",
       "      <td>60.720001</td>\n",
       "      <td>60.750000</td>\n",
       "      <td>23002400</td>\n",
       "      <td>0.0</td>\n",
       "      <td>0</td>\n",
       "      <td>2022-01-20</td>\n",
       "      <td>0</td>\n",
       "    </tr>\n",
       "    <tr>\n",
       "      <th>265</th>\n",
       "      <td>61.080002</td>\n",
       "      <td>61.299999</td>\n",
       "      <td>60.400002</td>\n",
       "      <td>60.450001</td>\n",
       "      <td>26641500</td>\n",
       "      <td>0.0</td>\n",
       "      <td>0</td>\n",
       "      <td>2022-01-21</td>\n",
       "      <td>0</td>\n",
       "    </tr>\n",
       "    <tr>\n",
       "      <th>266</th>\n",
       "      <td>59.900002</td>\n",
       "      <td>60.349998</td>\n",
       "      <td>58.570000</td>\n",
       "      <td>59.959999</td>\n",
       "      <td>30207500</td>\n",
       "      <td>0.0</td>\n",
       "      <td>0</td>\n",
       "      <td>2022-01-24</td>\n",
       "      <td>0</td>\n",
       "    </tr>\n",
       "    <tr>\n",
       "      <th>267</th>\n",
       "      <td>59.360001</td>\n",
       "      <td>60.049999</td>\n",
       "      <td>58.689999</td>\n",
       "      <td>59.820000</td>\n",
       "      <td>19027100</td>\n",
       "      <td>0.0</td>\n",
       "      <td>0</td>\n",
       "      <td>2022-01-25</td>\n",
       "      <td>0</td>\n",
       "    </tr>\n",
       "    <tr>\n",
       "      <th>268</th>\n",
       "      <td>59.790001</td>\n",
       "      <td>60.349998</td>\n",
       "      <td>59.209999</td>\n",
       "      <td>59.599998</td>\n",
       "      <td>19187900</td>\n",
       "      <td>0.0</td>\n",
       "      <td>0</td>\n",
       "      <td>2022-01-26</td>\n",
       "      <td>0</td>\n",
       "    </tr>\n",
       "  </tbody>\n",
       "</table>\n",
       "<p>269 rows × 9 columns</p>\n",
       "</div>"
      ],
      "text/plain": [
       "          Open       High        Low      Close    Volume  Dividends  \\\n",
       "0    52.611363  52.960361  50.439822  51.147511  25611100        0.0   \n",
       "1    50.730656  51.492006  50.439822  50.585239  20323800        0.0   \n",
       "2    50.381660  50.430131  48.656059  48.975975  38724500        0.0   \n",
       "3    48.559114  48.723917  48.006535  48.433086  53225700        0.0   \n",
       "4    48.500948  49.567331  48.316756  49.518860  29674000        0.0   \n",
       "..         ...        ...        ...        ...       ...        ...   \n",
       "264  61.000000  61.439999  60.720001  60.750000  23002400        0.0   \n",
       "265  61.080002  61.299999  60.400002  60.450001  26641500        0.0   \n",
       "266  59.900002  60.349998  58.570000  59.959999  30207500        0.0   \n",
       "267  59.360001  60.049999  58.689999  59.820000  19027100        0.0   \n",
       "268  59.790001  60.349998  59.209999  59.599998  19187900        0.0   \n",
       "\n",
       "     Stock Splits        Date  isRising  \n",
       "0               0  2021-01-04         0  \n",
       "1               0  2021-01-05         0  \n",
       "2               0  2021-01-06         0  \n",
       "3               0  2021-01-07         1  \n",
       "4               0  2021-01-08         0  \n",
       "..            ...         ...       ...  \n",
       "264             0  2022-01-20         0  \n",
       "265             0  2022-01-21         0  \n",
       "266             0  2022-01-24         0  \n",
       "267             0  2022-01-25         0  \n",
       "268             0  2022-01-26         0  \n",
       "\n",
       "[269 rows x 9 columns]"
      ]
     },
     "execution_count": 2,
     "metadata": {},
     "output_type": "execute_result"
    }
   ],
   "source": [
    "#считываем данные\n",
    "df4 = pd.read_excel(r\"C:\\Users\\Goba-PC\\Desktop\\python\\obrabotka\\Coca-Cola_stock_history_k_averege_fill.xlsx\")\n",
    "del df4['Unnamed: 0']\n",
    "df4"
   ]
  },
  {
   "cell_type": "code",
   "execution_count": 7,
   "metadata": {},
   "outputs": [],
   "source": [
    "#разделяем выборки по целевому критерию\n",
    "df4_1 = df4[df4['isRising'] == 1]\n",
    "df4_0 = df4[df4['isRising'] == 0]"
   ]
  },
  {
   "cell_type": "code",
   "execution_count": 8,
   "metadata": {},
   "outputs": [
    {
     "data": {
      "text/html": [
       "<div>\n",
       "<style scoped>\n",
       "    .dataframe tbody tr th:only-of-type {\n",
       "        vertical-align: middle;\n",
       "    }\n",
       "\n",
       "    .dataframe tbody tr th {\n",
       "        vertical-align: top;\n",
       "    }\n",
       "\n",
       "    .dataframe thead th {\n",
       "        text-align: right;\n",
       "    }\n",
       "</style>\n",
       "<table border=\"1\" class=\"dataframe\">\n",
       "  <thead>\n",
       "    <tr style=\"text-align: right;\">\n",
       "      <th></th>\n",
       "      <th>Open</th>\n",
       "      <th>High</th>\n",
       "      <th>Low</th>\n",
       "      <th>Close</th>\n",
       "      <th>Volume</th>\n",
       "      <th>Dividends</th>\n",
       "      <th>Stock Splits</th>\n",
       "      <th>Date</th>\n",
       "      <th>isRising</th>\n",
       "    </tr>\n",
       "  </thead>\n",
       "  <tbody>\n",
       "    <tr>\n",
       "      <th>3</th>\n",
       "      <td>48.559114</td>\n",
       "      <td>48.723917</td>\n",
       "      <td>48.006535</td>\n",
       "      <td>48.433086</td>\n",
       "      <td>53225700</td>\n",
       "      <td>0.0</td>\n",
       "      <td>0</td>\n",
       "      <td>2021-01-07</td>\n",
       "      <td>1</td>\n",
       "    </tr>\n",
       "    <tr>\n",
       "      <th>6</th>\n",
       "      <td>48.510642</td>\n",
       "      <td>48.830555</td>\n",
       "      <td>48.239197</td>\n",
       "      <td>48.578503</td>\n",
       "      <td>24159800</td>\n",
       "      <td>0.0</td>\n",
       "      <td>0</td>\n",
       "      <td>2021-01-12</td>\n",
       "      <td>1</td>\n",
       "    </tr>\n",
       "    <tr>\n",
       "      <th>10</th>\n",
       "      <td>47.250379</td>\n",
       "      <td>47.541209</td>\n",
       "      <td>46.765660</td>\n",
       "      <td>47.027405</td>\n",
       "      <td>29114500</td>\n",
       "      <td>0.0</td>\n",
       "      <td>0</td>\n",
       "      <td>2021-01-19</td>\n",
       "      <td>1</td>\n",
       "    </tr>\n",
       "    <tr>\n",
       "      <th>11</th>\n",
       "      <td>51.199376</td>\n",
       "      <td>47.327932</td>\n",
       "      <td>46.833520</td>\n",
       "      <td>47.192211</td>\n",
       "      <td>23115800</td>\n",
       "      <td>0.0</td>\n",
       "      <td>0</td>\n",
       "      <td>2021-01-20</td>\n",
       "      <td>1</td>\n",
       "    </tr>\n",
       "    <tr>\n",
       "      <th>13</th>\n",
       "      <td>47.318234</td>\n",
       "      <td>47.444258</td>\n",
       "      <td>47.008015</td>\n",
       "      <td>47.008015</td>\n",
       "      <td>15400300</td>\n",
       "      <td>0.0</td>\n",
       "      <td>0</td>\n",
       "      <td>2021-01-22</td>\n",
       "      <td>1</td>\n",
       "    </tr>\n",
       "    <tr>\n",
       "      <th>...</th>\n",
       "      <td>...</td>\n",
       "      <td>...</td>\n",
       "      <td>...</td>\n",
       "      <td>...</td>\n",
       "      <td>...</td>\n",
       "      <td>...</td>\n",
       "      <td>...</td>\n",
       "      <td>...</td>\n",
       "      <td>...</td>\n",
       "    </tr>\n",
       "    <tr>\n",
       "      <th>257</th>\n",
       "      <td>60.549999</td>\n",
       "      <td>60.820000</td>\n",
       "      <td>60.180000</td>\n",
       "      <td>60.430000</td>\n",
       "      <td>20954300</td>\n",
       "      <td>0.0</td>\n",
       "      <td>0</td>\n",
       "      <td>2022-01-10</td>\n",
       "      <td>1</td>\n",
       "    </tr>\n",
       "    <tr>\n",
       "      <th>258</th>\n",
       "      <td>60.430000</td>\n",
       "      <td>60.490002</td>\n",
       "      <td>59.840000</td>\n",
       "      <td>60.450001</td>\n",
       "      <td>19369600</td>\n",
       "      <td>0.0</td>\n",
       "      <td>0</td>\n",
       "      <td>2022-01-11</td>\n",
       "      <td>1</td>\n",
       "    </tr>\n",
       "    <tr>\n",
       "      <th>259</th>\n",
       "      <td>60.529999</td>\n",
       "      <td>60.689999</td>\n",
       "      <td>60.189999</td>\n",
       "      <td>60.540001</td>\n",
       "      <td>15753800</td>\n",
       "      <td>0.0</td>\n",
       "      <td>0</td>\n",
       "      <td>2022-01-12</td>\n",
       "      <td>1</td>\n",
       "    </tr>\n",
       "    <tr>\n",
       "      <th>260</th>\n",
       "      <td>60.540001</td>\n",
       "      <td>61.040001</td>\n",
       "      <td>60.389999</td>\n",
       "      <td>60.900002</td>\n",
       "      <td>14318000</td>\n",
       "      <td>0.0</td>\n",
       "      <td>0</td>\n",
       "      <td>2022-01-13</td>\n",
       "      <td>1</td>\n",
       "    </tr>\n",
       "    <tr>\n",
       "      <th>262</th>\n",
       "      <td>61.060001</td>\n",
       "      <td>61.189999</td>\n",
       "      <td>60.450001</td>\n",
       "      <td>60.900002</td>\n",
       "      <td>21976700</td>\n",
       "      <td>0.0</td>\n",
       "      <td>0</td>\n",
       "      <td>2022-01-18</td>\n",
       "      <td>1</td>\n",
       "    </tr>\n",
       "  </tbody>\n",
       "</table>\n",
       "<p>144 rows × 9 columns</p>\n",
       "</div>"
      ],
      "text/plain": [
       "          Open       High        Low      Close    Volume  Dividends  \\\n",
       "3    48.559114  48.723917  48.006535  48.433086  53225700        0.0   \n",
       "6    48.510642  48.830555  48.239197  48.578503  24159800        0.0   \n",
       "10   47.250379  47.541209  46.765660  47.027405  29114500        0.0   \n",
       "11   51.199376  47.327932  46.833520  47.192211  23115800        0.0   \n",
       "13   47.318234  47.444258  47.008015  47.008015  15400300        0.0   \n",
       "..         ...        ...        ...        ...       ...        ...   \n",
       "257  60.549999  60.820000  60.180000  60.430000  20954300        0.0   \n",
       "258  60.430000  60.490002  59.840000  60.450001  19369600        0.0   \n",
       "259  60.529999  60.689999  60.189999  60.540001  15753800        0.0   \n",
       "260  60.540001  61.040001  60.389999  60.900002  14318000        0.0   \n",
       "262  61.060001  61.189999  60.450001  60.900002  21976700        0.0   \n",
       "\n",
       "     Stock Splits        Date  isRising  \n",
       "3               0  2021-01-07         1  \n",
       "6               0  2021-01-12         1  \n",
       "10              0  2021-01-19         1  \n",
       "11              0  2021-01-20         1  \n",
       "13              0  2021-01-22         1  \n",
       "..            ...         ...       ...  \n",
       "257             0  2022-01-10         1  \n",
       "258             0  2022-01-11         1  \n",
       "259             0  2022-01-12         1  \n",
       "260             0  2022-01-13         1  \n",
       "262             0  2022-01-18         1  \n",
       "\n",
       "[144 rows x 9 columns]"
      ]
     },
     "execution_count": 8,
     "metadata": {},
     "output_type": "execute_result"
    }
   ],
   "source": [
    "df4_1 "
   ]
  },
  {
   "cell_type": "code",
   "execution_count": 9,
   "metadata": {},
   "outputs": [
    {
     "name": "stdout",
     "output_type": "stream",
     "text": [
      "16075680.381944444 16062123.4\n"
     ]
    }
   ],
   "source": [
    "# выводим средний Объём продаж в каждой выборке\n",
    "print(df4_1['Volume'].mean(), df4_0['Volume'].mean())"
   ]
  },
  {
   "cell_type": "code",
   "execution_count": 10,
   "metadata": {},
   "outputs": [
    {
     "data": {
      "text/plain": [
       "Ttest_indResult(statistic=0.014830351002760657, pvalue=0.9881789910365597)"
      ]
     },
     "execution_count": 10,
     "metadata": {},
     "output_type": "execute_result"
    }
   ],
   "source": [
    "#осуществляем Two-Sample T-Test\n",
    "stats.ttest_ind(a= df4_1['Volume'], b= df4_0['Volume'], equal_var=False)"
   ]
  },
  {
   "cell_type": "markdown",
   "metadata": {},
   "source": [
    "Согласно полученному значению P, средние значения дохода у рассматриваемых групп клиентов статистически значимо различаются. Это вероятность получить такие или более выраженные различия при условии, что в генеральной совокупности никаких различий на самом деле нет. \n",
    "\n",
    " (https://habr.com/company/stepic/blog/250527/)"
   ]
  },
  {
   "cell_type": "markdown",
   "metadata": {},
   "source": [
    "### 1.1.2 Paired T-Test (для связных выборок t-тест Стьюдента)"
   ]
  },
  {
   "cell_type": "markdown",
   "metadata": {},
   "source": [
    "Данный тест служит для проверки эффективности какого-то мероприятия (например, показателей времени решения задачи ОДНИХ И ТЕХ ЖЕ программистов ПОСЛЕ обучения)"
   ]
  },
  {
   "cell_type": "code",
   "execution_count": 49,
   "metadata": {},
   "outputs": [
    {
     "data": {
      "text/html": [
       "<div>\n",
       "<style scoped>\n",
       "    .dataframe tbody tr th:only-of-type {\n",
       "        vertical-align: middle;\n",
       "    }\n",
       "\n",
       "    .dataframe tbody tr th {\n",
       "        vertical-align: top;\n",
       "    }\n",
       "\n",
       "    .dataframe thead th {\n",
       "        text-align: right;\n",
       "    }\n",
       "</style>\n",
       "<table border=\"1\" class=\"dataframe\">\n",
       "  <thead>\n",
       "    <tr style=\"text-align: right;\">\n",
       "      <th></th>\n",
       "      <th>weight_before</th>\n",
       "      <th>weight_after</th>\n",
       "      <th>weight_change</th>\n",
       "    </tr>\n",
       "  </thead>\n",
       "  <tbody>\n",
       "    <tr>\n",
       "      <th>count</th>\n",
       "      <td>100.000000</td>\n",
       "      <td>100.000000</td>\n",
       "      <td>100.000000</td>\n",
       "    </tr>\n",
       "    <tr>\n",
       "      <th>mean</th>\n",
       "      <td>20.034555</td>\n",
       "      <td>15.046330</td>\n",
       "      <td>-4.988225</td>\n",
       "    </tr>\n",
       "    <tr>\n",
       "      <th>std</th>\n",
       "      <td>2.813254</td>\n",
       "      <td>3.970184</td>\n",
       "      <td>2.870218</td>\n",
       "    </tr>\n",
       "    <tr>\n",
       "      <th>min</th>\n",
       "      <td>12.040044</td>\n",
       "      <td>5.098136</td>\n",
       "      <td>-11.147172</td>\n",
       "    </tr>\n",
       "    <tr>\n",
       "      <th>25%</th>\n",
       "      <td>18.042104</td>\n",
       "      <td>12.734795</td>\n",
       "      <td>-6.677726</td>\n",
       "    </tr>\n",
       "    <tr>\n",
       "      <th>50%</th>\n",
       "      <td>20.083081</td>\n",
       "      <td>14.686234</td>\n",
       "      <td>-5.098078</td>\n",
       "    </tr>\n",
       "    <tr>\n",
       "      <th>75%</th>\n",
       "      <td>22.063715</td>\n",
       "      <td>17.703463</td>\n",
       "      <td>-3.206796</td>\n",
       "    </tr>\n",
       "    <tr>\n",
       "      <th>max</th>\n",
       "      <td>26.470023</td>\n",
       "      <td>25.145545</td>\n",
       "      <td>1.605569</td>\n",
       "    </tr>\n",
       "  </tbody>\n",
       "</table>\n",
       "</div>"
      ],
      "text/plain": [
       "       weight_before  weight_after  weight_change\n",
       "count     100.000000    100.000000     100.000000\n",
       "mean       20.034555     15.046330      -4.988225\n",
       "std         2.813254      3.970184       2.870218\n",
       "min        12.040044      5.098136     -11.147172\n",
       "25%        18.042104     12.734795      -6.677726\n",
       "50%        20.083081     14.686234      -5.098078\n",
       "75%        22.063715     17.703463      -3.206796\n",
       "max        26.470023     25.145545       1.605569"
      ]
     },
     "execution_count": 49,
     "metadata": {},
     "output_type": "execute_result"
    }
   ],
   "source": [
    "np.random.seed(11)\n",
    "\n",
    "before= stats.norm.rvs(scale=3, loc=20, size=100)\n",
    "\n",
    "after = before + stats.norm.rvs(scale=3, loc=-5, size=100)\n",
    "\n",
    "weight_df = pd.DataFrame({\"weight_before\":before,\n",
    "                          \"weight_after\":after,\n",
    "                          \"weight_change\":after-before})\n",
    "\n",
    "weight_df.describe()             "
   ]
  },
  {
   "cell_type": "markdown",
   "metadata": {},
   "source": [
    "Резюме показывает, что программисты выиграли около 4,988 часа в среднем после обучения для решения задачи. Проведем парный t-тест, чтобы увидеть, является ли эта разница существенной с 95% -ным доверительным уровнем:"
   ]
  },
  {
   "cell_type": "code",
   "execution_count": 8,
   "metadata": {},
   "outputs": [
    {
     "data": {
      "text/plain": [
       "Ttest_relResult(statistic=17.379257598363345, pvalue=7.752039383109762e-32)"
      ]
     },
     "execution_count": 8,
     "metadata": {},
     "output_type": "execute_result"
    }
   ],
   "source": [
    "stats.ttest_rel(a = before, b = after)"
   ]
  },
  {
   "cell_type": "markdown",
   "metadata": {},
   "source": [
    "Значение p  в тестовом выходе показывает, что шансы увидеть полученную или еще большую разницу  между выборками из-за случайности составляют менее 0.01."
   ]
  },
  {
   "cell_type": "markdown",
   "metadata": {},
   "source": [
    "## 1.2. U-критерий Манна — Уитни. Тест Крускала-Уоллиса.  Тест Колмогорова-Смирнова"
   ]
  },
  {
   "cell_type": "markdown",
   "metadata": {},
   "source": [
    "t-тест Стьюдента использует средние арифметические значения, что приводит к его неустойчивости при наличии аномальных выбросов и формы распределения, отличающейся от нормальной.\n",
    "\n",
    "В такой ситуации прибегают к использованию U-критерия Манна-Уитни. \n",
    "Он относится к непараметрическим критериям"
   ]
  },
  {
   "cell_type": "markdown",
   "metadata": {},
   "source": [
    "### критерий Манна — Уитни"
   ]
  },
  {
   "cell_type": "code",
   "execution_count": 11,
   "metadata": {},
   "outputs": [
    {
     "data": {
      "text/plain": [
       "MannwhitneyuResult(statistic=9415.0, pvalue=0.5148374151711994)"
      ]
     },
     "execution_count": 11,
     "metadata": {},
     "output_type": "execute_result"
    }
   ],
   "source": [
    "stats.mannwhitneyu(x= df4_1['Volume'], y= df4_0['Volume'])"
   ]
  },
  {
   "cell_type": "markdown",
   "metadata": {},
   "source": [
    "### Крускала Уоллис тест (для нескольких групп)"
   ]
  },
  {
   "cell_type": "code",
   "execution_count": 21,
   "metadata": {},
   "outputs": [
    {
     "name": "stdout",
     "output_type": "stream",
     "text": [
      "{Interval(18026300.0, 67845700.0, closed='right'): 0      52.960361\n",
      "1      51.492006\n",
      "2      50.430131\n",
      "3      48.723917\n",
      "4      49.567331\n",
      "         ...    \n",
      "264    61.439999\n",
      "265    61.299999\n",
      "266    60.349998\n",
      "267    60.049999\n",
      "268    60.349998\n",
      "Name: High, Length: 67, dtype: float64, Interval(14318000.0, 18026300.0, closed='right'): 13     47.444258\n",
      "14     47.347318\n",
      "17     47.987148\n",
      "24     48.636669\n",
      "25     48.491254\n",
      "         ...    \n",
      "231    53.340000\n",
      "235    55.349998\n",
      "244    57.970001\n",
      "255    61.119999\n",
      "259    60.689999\n",
      "Name: High, Length: 67, dtype: float64, Interval(11727000.0, 14318000.0, closed='right'): 15     47.890208\n",
      "19     47.201899\n",
      "20     47.841734\n",
      "21     47.589677\n",
      "23     48.258585\n",
      "         ...    \n",
      "236    55.130001\n",
      "245    58.189999\n",
      "248    58.939999\n",
      "256    60.720001\n",
      "260    61.040001\n",
      "Name: High, Length: 67, dtype: float64, Interval(6169199.999, 11727000.0, closed='right'): 64     52.296592\n",
      "65     52.179290\n",
      "66     52.081537\n",
      "67     52.345465\n",
      "68     52.091315\n",
      "         ...    \n",
      "246    58.610001\n",
      "247    58.689999\n",
      "249    59.099998\n",
      "250    59.230000\n",
      "251    59.349998\n",
      "Name: High, Length: 68, dtype: float64}\n"
     ]
    }
   ],
   "source": [
    "df4['N'] = pd.qcut(df4.Volume, 4)\n",
    "groups = {}\n",
    "for grp in df4['N'].unique():\n",
    "    groups[grp] = df4['High'][df4['N']==grp]\n",
    "print(groups)\n",
    "\n"
   ]
  },
  {
   "cell_type": "code",
   "execution_count": 22,
   "metadata": {},
   "outputs": [
    {
     "data": {
      "image/png": "[encoded data removed]",
      "text/plain": [
       "<Figure size 432x288 with 1 Axes>"
      ]
     },
     "metadata": {
      "needs_background": "light"
     },
     "output_type": "display_data"
    }
   ],
   "source": [
    "sns.boxplot(y=\"High\", x='Volume', data=df4);"
   ]
  },
  {
   "cell_type": "code",
   "execution_count": 37,
   "metadata": {},
   "outputs": [
    {
     "data": {
      "text/plain": [
       "Interval(14318000.0, 18026300.0, closed='right')"
      ]
     },
     "execution_count": 37,
     "metadata": {},
     "output_type": "execute_result"
    }
   ],
   "source": [
    "df4['N'].unique()[1]"
   ]
  },
  {
   "cell_type": "code",
   "execution_count": 41,
   "metadata": {},
   "outputs": [
    {
     "data": {
      "text/plain": [
       "KruskalResult(statistic=23.987601515486972, pvalue=2.5129305706455663e-05)"
      ]
     },
     "execution_count": 41,
     "metadata": {},
     "output_type": "execute_result"
    }
   ],
   "source": [
    "args = groups.values()\n",
    "stats.kruskal(*args)"
   ]
  },
  {
   "cell_type": "code",
   "execution_count": 155,
   "metadata": {},
   "outputs": [
    {
     "data": {
      "text/plain": [
       "KruskalResult(statistic=0.3355168136319256, pvalue=0.9874075693119144)"
      ]
     },
     "execution_count": 155,
     "metadata": {},
     "output_type": "execute_result"
    }
   ],
   "source": [
    "#stats.kruskal(df4['Опыт работы'][df4.Иждивенцы==0],\n",
    "              #df4['Опыт работы'][df4.Иждивенцы==1], \n",
    "              #df4['Опыт работы'][df4.Иждивенцы==2],\n",
    "              #df4['Опыт работы'][df4.Иждивенцы==3], \n",
    "             # df4['Опыт работы'][df4.Иждивенцы==4])"
   ]
  },
  {
   "cell_type": "markdown",
   "metadata": {},
   "source": [
    "### Тест Колмогорова-Смирнова"
   ]
  },
  {
   "cell_type": "code",
   "execution_count": 26,
   "metadata": {},
   "outputs": [
    {
     "data": {
      "text/plain": [
       "KstestResult(statistic=0.09472222222222222, pvalue=0.543256728332322)"
      ]
     },
     "execution_count": 26,
     "metadata": {},
     "output_type": "execute_result"
    }
   ],
   "source": [
    "stats.ks_2samp(df4_1['Volume'],df4_0['Volume'])"
   ]
  },
  {
   "cell_type": "code",
   "execution_count": 39,
   "metadata": {},
   "outputs": [
    {
     "data": {
      "text/plain": [
       "<AxesSubplot:xlabel='High', ylabel='Density'>"
      ]
     },
     "execution_count": 39,
     "metadata": {},
     "output_type": "execute_result"
    },
    {
     "data": {
      "image/png": "[encoded data removed]",
      "text/plain": [
       "<Figure size 432x288 with 1 Axes>"
      ]
     },
     "metadata": {
      "needs_background": "light"
     },
     "output_type": "display_data"
    }
   ],
   "source": [
    "sns.kdeplot(df4['High'][df4.N==df4['N'].unique()[0]], label='0', shade=True)\n",
    "sns.kdeplot(df4['High'][df4.N==df4['N'].unique()[1]], label='1', shade=True)\n",
    "sns.kdeplot(df4['High'][df4.N==df4['N'].unique()[2]], label='2', shade=True)\n",
    "sns.kdeplot(df4['High'][df4.N==df4['N'].unique()[3]], label='3', shade=True)\n",
    "#sns.kdeplot(df4['High'][df4.Иждивенцы==4], label='4', shade=True)\n"
   ]
  },
  {
   "cell_type": "code",
   "execution_count": 42,
   "metadata": {},
   "outputs": [
    {
     "ename": "KeyError",
     "evalue": "2",
     "output_type": "error",
     "traceback": [
      "\u001b[1;31m---------------------------------------------------------------------------\u001b[0m",
      "\u001b[1;31mKeyError\u001b[0m                                  Traceback (most recent call last)",
      "\u001b[1;32m~\\AppData\\Local\\Temp/ipykernel_19616/3391096274.py\u001b[0m in \u001b[0;36m<module>\u001b[1;34m\u001b[0m\n\u001b[1;32m----> 1\u001b[1;33m \u001b[0mstats\u001b[0m\u001b[1;33m.\u001b[0m\u001b[0mks_2samp\u001b[0m\u001b[1;33m(\u001b[0m\u001b[0mgroups\u001b[0m\u001b[1;33m[\u001b[0m\u001b[1;36m2\u001b[0m\u001b[1;33m]\u001b[0m\u001b[1;33m,\u001b[0m\u001b[0mgroups\u001b[0m\u001b[1;33m[\u001b[0m\u001b[1;36m3\u001b[0m\u001b[1;33m]\u001b[0m\u001b[1;33m)\u001b[0m\u001b[1;33m\u001b[0m\u001b[1;33m\u001b[0m\u001b[0m\n\u001b[0m",
      "\u001b[1;31mKeyError\u001b[0m: 2"
     ]
    }
   ],
   "source": [
    "stats.ks_2samp(groups[2],groups[3])"
   ]
  },
  {
   "cell_type": "markdown",
   "metadata": {},
   "source": [
    "# 2. Количественная результирующая переменная, количественный фактор"
   ]
  },
  {
   "cell_type": "markdown",
   "metadata": {},
   "source": [
    "## 2.1 Ковариация"
   ]
  },
  {
   "cell_type": "markdown",
   "metadata": {},
   "source": [
    "Есть много путей посчитать ковариацию - первый, самый простой - это использовать функцию Pandas .cov()"
   ]
  },
  {
   "cell_type": "code",
   "execution_count": 43,
   "metadata": {
    "scrolled": true
   },
   "outputs": [
    {
     "name": "stderr",
     "output_type": "stream",
     "text": [
      "C:\\Users\\Goba-PC\\AppData\\Local\\Temp/ipykernel_19616/1527584861.py:1: FutureWarning: Dropping of nuisance columns in DataFrame reductions (with 'numeric_only=None') is deprecated; in a future version this will raise TypeError.  Select only valid columns before calling the reduction.\n",
      "  df4.mean()\n"
     ]
    },
    {
     "data": {
      "text/plain": [
       "Open            5.364252e+01\n",
       "High            5.398908e+01\n",
       "Low             5.330804e+01\n",
       "Close           5.365289e+01\n",
       "Volume          1.606938e+07\n",
       "Dividends       6.245353e-03\n",
       "Stock Splits    0.000000e+00\n",
       "isRising        5.353160e-01\n",
       "dtype: float64"
      ]
     },
     "execution_count": 43,
     "metadata": {},
     "output_type": "execute_result"
    }
   ],
   "source": [
    "df4.mean()"
   ]
  },
  {
   "cell_type": "code",
   "execution_count": 44,
   "metadata": {},
   "outputs": [
    {
     "data": {
      "text/html": [
       "<div>\n",
       "<style scoped>\n",
       "    .dataframe tbody tr th:only-of-type {\n",
       "        vertical-align: middle;\n",
       "    }\n",
       "\n",
       "    .dataframe tbody tr th {\n",
       "        vertical-align: top;\n",
       "    }\n",
       "\n",
       "    .dataframe thead th {\n",
       "        text-align: right;\n",
       "    }\n",
       "</style>\n",
       "<table border=\"1\" class=\"dataframe\">\n",
       "  <thead>\n",
       "    <tr style=\"text-align: right;\">\n",
       "      <th></th>\n",
       "      <th>Open</th>\n",
       "      <th>High</th>\n",
       "      <th>Low</th>\n",
       "      <th>Close</th>\n",
       "      <th>Volume</th>\n",
       "      <th>Dividends</th>\n",
       "      <th>Stock Splits</th>\n",
       "      <th>isRising</th>\n",
       "    </tr>\n",
       "  </thead>\n",
       "  <tbody>\n",
       "    <tr>\n",
       "      <th>Open</th>\n",
       "      <td>1.045589e+01</td>\n",
       "      <td>1.044713e+01</td>\n",
       "      <td>1.038674e+01</td>\n",
       "      <td>1.032209e+01</td>\n",
       "      <td>-2.923480e+06</td>\n",
       "      <td>-0.001851</td>\n",
       "      <td>0.0</td>\n",
       "      <td>-0.029842</td>\n",
       "    </tr>\n",
       "    <tr>\n",
       "      <th>High</th>\n",
       "      <td>1.044713e+01</td>\n",
       "      <td>1.071134e+01</td>\n",
       "      <td>1.060053e+01</td>\n",
       "      <td>1.058037e+01</td>\n",
       "      <td>-2.662385e+06</td>\n",
       "      <td>-0.003714</td>\n",
       "      <td>0.0</td>\n",
       "      <td>-0.032058</td>\n",
       "    </tr>\n",
       "    <tr>\n",
       "      <th>Low</th>\n",
       "      <td>1.038674e+01</td>\n",
       "      <td>1.060053e+01</td>\n",
       "      <td>1.066865e+01</td>\n",
       "      <td>1.052932e+01</td>\n",
       "      <td>-3.885355e+06</td>\n",
       "      <td>-0.003501</td>\n",
       "      <td>0.0</td>\n",
       "      <td>-0.032200</td>\n",
       "    </tr>\n",
       "    <tr>\n",
       "      <th>Close</th>\n",
       "      <td>1.032209e+01</td>\n",
       "      <td>1.058037e+01</td>\n",
       "      <td>1.052932e+01</td>\n",
       "      <td>1.069245e+01</td>\n",
       "      <td>-3.561919e+06</td>\n",
       "      <td>-0.004644</td>\n",
       "      <td>0.0</td>\n",
       "      <td>-0.058756</td>\n",
       "    </tr>\n",
       "    <tr>\n",
       "      <th>Volume</th>\n",
       "      <td>-2.923480e+06</td>\n",
       "      <td>-2.662385e+06</td>\n",
       "      <td>-3.885355e+06</td>\n",
       "      <td>-3.561919e+06</td>\n",
       "      <td>5.534792e+13</td>\n",
       "      <td>11653.397298</td>\n",
       "      <td>0.0</td>\n",
       "      <td>3384.920310</td>\n",
       "    </tr>\n",
       "    <tr>\n",
       "      <th>Dividends</th>\n",
       "      <td>-1.850545e-03</td>\n",
       "      <td>-3.713949e-03</td>\n",
       "      <td>-3.500832e-03</td>\n",
       "      <td>-4.643909e-03</td>\n",
       "      <td>1.165340e+04</td>\n",
       "      <td>0.002594</td>\n",
       "      <td>0.0</td>\n",
       "      <td>-0.000221</td>\n",
       "    </tr>\n",
       "    <tr>\n",
       "      <th>Stock Splits</th>\n",
       "      <td>0.000000e+00</td>\n",
       "      <td>0.000000e+00</td>\n",
       "      <td>0.000000e+00</td>\n",
       "      <td>0.000000e+00</td>\n",
       "      <td>0.000000e+00</td>\n",
       "      <td>0.000000</td>\n",
       "      <td>0.0</td>\n",
       "      <td>0.000000</td>\n",
       "    </tr>\n",
       "    <tr>\n",
       "      <th>isRising</th>\n",
       "      <td>-2.984194e-02</td>\n",
       "      <td>-3.205842e-02</td>\n",
       "      <td>-3.220022e-02</td>\n",
       "      <td>-5.875640e-02</td>\n",
       "      <td>3.384920e+03</td>\n",
       "      <td>-0.000221</td>\n",
       "      <td>0.0</td>\n",
       "      <td>0.249681</td>\n",
       "    </tr>\n",
       "  </tbody>\n",
       "</table>\n",
       "</div>"
      ],
      "text/plain": [
       "                      Open          High           Low         Close  \\\n",
       "Open          1.045589e+01  1.044713e+01  1.038674e+01  1.032209e+01   \n",
       "High          1.044713e+01  1.071134e+01  1.060053e+01  1.058037e+01   \n",
       "Low           1.038674e+01  1.060053e+01  1.066865e+01  1.052932e+01   \n",
       "Close         1.032209e+01  1.058037e+01  1.052932e+01  1.069245e+01   \n",
       "Volume       -2.923480e+06 -2.662385e+06 -3.885355e+06 -3.561919e+06   \n",
       "Dividends    -1.850545e-03 -3.713949e-03 -3.500832e-03 -4.643909e-03   \n",
       "Stock Splits  0.000000e+00  0.000000e+00  0.000000e+00  0.000000e+00   \n",
       "isRising     -2.984194e-02 -3.205842e-02 -3.220022e-02 -5.875640e-02   \n",
       "\n",
       "                    Volume     Dividends  Stock Splits     isRising  \n",
       "Open         -2.923480e+06     -0.001851           0.0    -0.029842  \n",
       "High         -2.662385e+06     -0.003714           0.0    -0.032058  \n",
       "Low          -3.885355e+06     -0.003501           0.0    -0.032200  \n",
       "Close        -3.561919e+06     -0.004644           0.0    -0.058756  \n",
       "Volume        5.534792e+13  11653.397298           0.0  3384.920310  \n",
       "Dividends     1.165340e+04      0.002594           0.0    -0.000221  \n",
       "Stock Splits  0.000000e+00      0.000000           0.0     0.000000  \n",
       "isRising      3.384920e+03     -0.000221           0.0     0.249681  "
      ]
     },
     "execution_count": 44,
     "metadata": {},
     "output_type": "execute_result"
    }
   ],
   "source": [
    "df4.cov()"
   ]
  },
  {
   "cell_type": "markdown",
   "metadata": {},
   "source": [
    "## 2.2 Корреляция"
   ]
  },
  {
   "cell_type": "code",
   "execution_count": 45,
   "metadata": {},
   "outputs": [
    {
     "data": {
      "text/html": [
       "<div>\n",
       "<style scoped>\n",
       "    .dataframe tbody tr th:only-of-type {\n",
       "        vertical-align: middle;\n",
       "    }\n",
       "\n",
       "    .dataframe tbody tr th {\n",
       "        vertical-align: top;\n",
       "    }\n",
       "\n",
       "    .dataframe thead th {\n",
       "        text-align: right;\n",
       "    }\n",
       "</style>\n",
       "<table border=\"1\" class=\"dataframe\">\n",
       "  <thead>\n",
       "    <tr style=\"text-align: right;\">\n",
       "      <th></th>\n",
       "      <th>Open</th>\n",
       "      <th>High</th>\n",
       "      <th>Low</th>\n",
       "      <th>Close</th>\n",
       "      <th>Volume</th>\n",
       "      <th>Dividends</th>\n",
       "      <th>Stock Splits</th>\n",
       "      <th>isRising</th>\n",
       "    </tr>\n",
       "  </thead>\n",
       "  <tbody>\n",
       "    <tr>\n",
       "      <th>Open</th>\n",
       "      <td>1.000000</td>\n",
       "      <td>0.987176</td>\n",
       "      <td>0.983432</td>\n",
       "      <td>0.976222</td>\n",
       "      <td>-0.121526</td>\n",
       "      <td>-0.011237</td>\n",
       "      <td>NaN</td>\n",
       "      <td>-0.018469</td>\n",
       "    </tr>\n",
       "    <tr>\n",
       "      <th>High</th>\n",
       "      <td>0.987176</td>\n",
       "      <td>1.000000</td>\n",
       "      <td>0.991633</td>\n",
       "      <td>0.988645</td>\n",
       "      <td>-0.109345</td>\n",
       "      <td>-0.022282</td>\n",
       "      <td>NaN</td>\n",
       "      <td>-0.019603</td>\n",
       "    </tr>\n",
       "    <tr>\n",
       "      <th>Low</th>\n",
       "      <td>0.983432</td>\n",
       "      <td>0.991633</td>\n",
       "      <td>1.000000</td>\n",
       "      <td>0.985841</td>\n",
       "      <td>-0.159892</td>\n",
       "      <td>-0.021045</td>\n",
       "      <td>NaN</td>\n",
       "      <td>-0.019729</td>\n",
       "    </tr>\n",
       "    <tr>\n",
       "      <th>Close</th>\n",
       "      <td>0.976222</td>\n",
       "      <td>0.988645</td>\n",
       "      <td>0.985841</td>\n",
       "      <td>1.000000</td>\n",
       "      <td>-0.146418</td>\n",
       "      <td>-0.027886</td>\n",
       "      <td>NaN</td>\n",
       "      <td>-0.035960</td>\n",
       "    </tr>\n",
       "    <tr>\n",
       "      <th>Volume</th>\n",
       "      <td>-0.121526</td>\n",
       "      <td>-0.109345</td>\n",
       "      <td>-0.159892</td>\n",
       "      <td>-0.146418</td>\n",
       "      <td>1.000000</td>\n",
       "      <td>0.030757</td>\n",
       "      <td>NaN</td>\n",
       "      <td>0.000911</td>\n",
       "    </tr>\n",
       "    <tr>\n",
       "      <th>Dividends</th>\n",
       "      <td>-0.011237</td>\n",
       "      <td>-0.022282</td>\n",
       "      <td>-0.021045</td>\n",
       "      <td>-0.027886</td>\n",
       "      <td>0.030757</td>\n",
       "      <td>1.000000</td>\n",
       "      <td>NaN</td>\n",
       "      <td>-0.008700</td>\n",
       "    </tr>\n",
       "    <tr>\n",
       "      <th>Stock Splits</th>\n",
       "      <td>NaN</td>\n",
       "      <td>NaN</td>\n",
       "      <td>NaN</td>\n",
       "      <td>NaN</td>\n",
       "      <td>NaN</td>\n",
       "      <td>NaN</td>\n",
       "      <td>NaN</td>\n",
       "      <td>NaN</td>\n",
       "    </tr>\n",
       "    <tr>\n",
       "      <th>isRising</th>\n",
       "      <td>-0.018469</td>\n",
       "      <td>-0.019603</td>\n",
       "      <td>-0.019729</td>\n",
       "      <td>-0.035960</td>\n",
       "      <td>0.000911</td>\n",
       "      <td>-0.008700</td>\n",
       "      <td>NaN</td>\n",
       "      <td>1.000000</td>\n",
       "    </tr>\n",
       "  </tbody>\n",
       "</table>\n",
       "</div>"
      ],
      "text/plain": [
       "                  Open      High       Low     Close    Volume  Dividends  \\\n",
       "Open          1.000000  0.987176  0.983432  0.976222 -0.121526  -0.011237   \n",
       "High          0.987176  1.000000  0.991633  0.988645 -0.109345  -0.022282   \n",
       "Low           0.983432  0.991633  1.000000  0.985841 -0.159892  -0.021045   \n",
       "Close         0.976222  0.988645  0.985841  1.000000 -0.146418  -0.027886   \n",
       "Volume       -0.121526 -0.109345 -0.159892 -0.146418  1.000000   0.030757   \n",
       "Dividends    -0.011237 -0.022282 -0.021045 -0.027886  0.030757   1.000000   \n",
       "Stock Splits       NaN       NaN       NaN       NaN       NaN        NaN   \n",
       "isRising     -0.018469 -0.019603 -0.019729 -0.035960  0.000911  -0.008700   \n",
       "\n",
       "              Stock Splits  isRising  \n",
       "Open                   NaN -0.018469  \n",
       "High                   NaN -0.019603  \n",
       "Low                    NaN -0.019729  \n",
       "Close                  NaN -0.035960  \n",
       "Volume                 NaN  0.000911  \n",
       "Dividends              NaN -0.008700  \n",
       "Stock Splits           NaN       NaN  \n",
       "isRising               NaN  1.000000  "
      ]
     },
     "execution_count": 45,
     "metadata": {},
     "output_type": "execute_result"
    }
   ],
   "source": [
    "#pandas\n",
    "df4.corr()"
   ]
  },
  {
   "cell_type": "code",
   "execution_count": 47,
   "metadata": {},
   "outputs": [
    {
     "data": {
      "text/plain": [
       "(-0.10934482534881781, 0.07338816348406138)"
      ]
     },
     "execution_count": 47,
     "metadata": {},
     "output_type": "execute_result"
    }
   ],
   "source": [
    "#scipy\n",
    "stats.pearsonr(df4['Volume'], df4['High'])"
   ]
  },
  {
   "cell_type": "markdown",
   "metadata": {},
   "source": [
    "### 2.2.1. Корреляция для случаев аномалий в данных "
   ]
  },
  {
   "cell_type": "markdown",
   "metadata": {},
   "source": [
    "В таких ситуациях прибегают к использованию \n",
    "\n",
    "1) Коэффициент Кендалла (Кендалл-тау)\n",
    "\n",
    "2) Коэффициент корреляции Спирмена \n",
    "\n"
   ]
  },
  {
   "cell_type": "code",
   "execution_count": 48,
   "metadata": {},
   "outputs": [
    {
     "data": {
      "text/html": [
       "<div>\n",
       "<style scoped>\n",
       "    .dataframe tbody tr th:only-of-type {\n",
       "        vertical-align: middle;\n",
       "    }\n",
       "\n",
       "    .dataframe tbody tr th {\n",
       "        vertical-align: top;\n",
       "    }\n",
       "\n",
       "    .dataframe thead th {\n",
       "        text-align: right;\n",
       "    }\n",
       "</style>\n",
       "<table border=\"1\" class=\"dataframe\">\n",
       "  <thead>\n",
       "    <tr style=\"text-align: right;\">\n",
       "      <th></th>\n",
       "      <th>Open</th>\n",
       "      <th>High</th>\n",
       "      <th>Low</th>\n",
       "      <th>Close</th>\n",
       "      <th>Volume</th>\n",
       "      <th>Dividends</th>\n",
       "      <th>Stock Splits</th>\n",
       "      <th>isRising</th>\n",
       "    </tr>\n",
       "  </thead>\n",
       "  <tbody>\n",
       "    <tr>\n",
       "      <th>Open</th>\n",
       "      <td>1.000000</td>\n",
       "      <td>0.918353</td>\n",
       "      <td>0.917622</td>\n",
       "      <td>0.880464</td>\n",
       "      <td>-0.161760</td>\n",
       "      <td>-0.002912</td>\n",
       "      <td>NaN</td>\n",
       "      <td>-0.014646</td>\n",
       "    </tr>\n",
       "    <tr>\n",
       "      <th>High</th>\n",
       "      <td>0.918353</td>\n",
       "      <td>1.000000</td>\n",
       "      <td>0.932708</td>\n",
       "      <td>0.924531</td>\n",
       "      <td>-0.151563</td>\n",
       "      <td>-0.014561</td>\n",
       "      <td>NaN</td>\n",
       "      <td>-0.015940</td>\n",
       "    </tr>\n",
       "    <tr>\n",
       "      <th>Low</th>\n",
       "      <td>0.917622</td>\n",
       "      <td>0.932708</td>\n",
       "      <td>1.000000</td>\n",
       "      <td>0.933566</td>\n",
       "      <td>-0.192421</td>\n",
       "      <td>-0.016501</td>\n",
       "      <td>NaN</td>\n",
       "      <td>-0.022299</td>\n",
       "    </tr>\n",
       "    <tr>\n",
       "      <th>Close</th>\n",
       "      <td>0.880464</td>\n",
       "      <td>0.924531</td>\n",
       "      <td>0.933566</td>\n",
       "      <td>1.000000</td>\n",
       "      <td>-0.182928</td>\n",
       "      <td>-0.023302</td>\n",
       "      <td>NaN</td>\n",
       "      <td>-0.032162</td>\n",
       "    </tr>\n",
       "    <tr>\n",
       "      <th>Volume</th>\n",
       "      <td>-0.161760</td>\n",
       "      <td>-0.151563</td>\n",
       "      <td>-0.192421</td>\n",
       "      <td>-0.182928</td>\n",
       "      <td>1.000000</td>\n",
       "      <td>0.020060</td>\n",
       "      <td>NaN</td>\n",
       "      <td>0.032585</td>\n",
       "    </tr>\n",
       "    <tr>\n",
       "      <th>Dividends</th>\n",
       "      <td>-0.002912</td>\n",
       "      <td>-0.014561</td>\n",
       "      <td>-0.016501</td>\n",
       "      <td>-0.023302</td>\n",
       "      <td>0.020060</td>\n",
       "      <td>1.000000</td>\n",
       "      <td>NaN</td>\n",
       "      <td>-0.008700</td>\n",
       "    </tr>\n",
       "    <tr>\n",
       "      <th>Stock Splits</th>\n",
       "      <td>NaN</td>\n",
       "      <td>NaN</td>\n",
       "      <td>NaN</td>\n",
       "      <td>NaN</td>\n",
       "      <td>NaN</td>\n",
       "      <td>NaN</td>\n",
       "      <td>1.0</td>\n",
       "      <td>NaN</td>\n",
       "    </tr>\n",
       "    <tr>\n",
       "      <th>isRising</th>\n",
       "      <td>-0.014646</td>\n",
       "      <td>-0.015940</td>\n",
       "      <td>-0.022299</td>\n",
       "      <td>-0.032162</td>\n",
       "      <td>0.032585</td>\n",
       "      <td>-0.008700</td>\n",
       "      <td>NaN</td>\n",
       "      <td>1.000000</td>\n",
       "    </tr>\n",
       "  </tbody>\n",
       "</table>\n",
       "</div>"
      ],
      "text/plain": [
       "                  Open      High       Low     Close    Volume  Dividends  \\\n",
       "Open          1.000000  0.918353  0.917622  0.880464 -0.161760  -0.002912   \n",
       "High          0.918353  1.000000  0.932708  0.924531 -0.151563  -0.014561   \n",
       "Low           0.917622  0.932708  1.000000  0.933566 -0.192421  -0.016501   \n",
       "Close         0.880464  0.924531  0.933566  1.000000 -0.182928  -0.023302   \n",
       "Volume       -0.161760 -0.151563 -0.192421 -0.182928  1.000000   0.020060   \n",
       "Dividends    -0.002912 -0.014561 -0.016501 -0.023302  0.020060   1.000000   \n",
       "Stock Splits       NaN       NaN       NaN       NaN       NaN        NaN   \n",
       "isRising     -0.014646 -0.015940 -0.022299 -0.032162  0.032585  -0.008700   \n",
       "\n",
       "              Stock Splits  isRising  \n",
       "Open                   NaN -0.014646  \n",
       "High                   NaN -0.015940  \n",
       "Low                    NaN -0.022299  \n",
       "Close                  NaN -0.032162  \n",
       "Volume                 NaN  0.032585  \n",
       "Dividends              NaN -0.008700  \n",
       "Stock Splits           1.0       NaN  \n",
       "isRising               NaN  1.000000  "
      ]
     },
     "execution_count": 48,
     "metadata": {},
     "output_type": "execute_result"
    }
   ],
   "source": [
    "#pandas\n",
    "df4.corr(method='kendall')"
   ]
  },
  {
   "cell_type": "code",
   "execution_count": 49,
   "metadata": {
    "scrolled": true
   },
   "outputs": [
    {
     "data": {
      "text/html": [
       "<div>\n",
       "<style scoped>\n",
       "    .dataframe tbody tr th:only-of-type {\n",
       "        vertical-align: middle;\n",
       "    }\n",
       "\n",
       "    .dataframe tbody tr th {\n",
       "        vertical-align: top;\n",
       "    }\n",
       "\n",
       "    .dataframe thead th {\n",
       "        text-align: right;\n",
       "    }\n",
       "</style>\n",
       "<table border=\"1\" class=\"dataframe\">\n",
       "  <thead>\n",
       "    <tr style=\"text-align: right;\">\n",
       "      <th></th>\n",
       "      <th>Open</th>\n",
       "      <th>High</th>\n",
       "      <th>Low</th>\n",
       "      <th>Close</th>\n",
       "      <th>Volume</th>\n",
       "      <th>Dividends</th>\n",
       "      <th>Stock Splits</th>\n",
       "      <th>isRising</th>\n",
       "    </tr>\n",
       "  </thead>\n",
       "  <tbody>\n",
       "    <tr>\n",
       "      <th>Open</th>\n",
       "      <td>1.000000</td>\n",
       "      <td>0.986273</td>\n",
       "      <td>0.986941</td>\n",
       "      <td>0.978154</td>\n",
       "      <td>-0.214937</td>\n",
       "      <td>-0.003560</td>\n",
       "      <td>NaN</td>\n",
       "      <td>-0.017901</td>\n",
       "    </tr>\n",
       "    <tr>\n",
       "      <th>High</th>\n",
       "      <td>0.986273</td>\n",
       "      <td>1.000000</td>\n",
       "      <td>0.991231</td>\n",
       "      <td>0.989614</td>\n",
       "      <td>-0.200642</td>\n",
       "      <td>-0.017799</td>\n",
       "      <td>NaN</td>\n",
       "      <td>-0.019485</td>\n",
       "    </tr>\n",
       "    <tr>\n",
       "      <th>Low</th>\n",
       "      <td>0.986941</td>\n",
       "      <td>0.991231</td>\n",
       "      <td>1.000000</td>\n",
       "      <td>0.991896</td>\n",
       "      <td>-0.252948</td>\n",
       "      <td>-0.020172</td>\n",
       "      <td>NaN</td>\n",
       "      <td>-0.027260</td>\n",
       "    </tr>\n",
       "    <tr>\n",
       "      <th>Close</th>\n",
       "      <td>0.978154</td>\n",
       "      <td>0.989614</td>\n",
       "      <td>0.991896</td>\n",
       "      <td>1.000000</td>\n",
       "      <td>-0.236339</td>\n",
       "      <td>-0.028479</td>\n",
       "      <td>NaN</td>\n",
       "      <td>-0.039306</td>\n",
       "    </tr>\n",
       "    <tr>\n",
       "      <th>Volume</th>\n",
       "      <td>-0.214937</td>\n",
       "      <td>-0.200642</td>\n",
       "      <td>-0.252948</td>\n",
       "      <td>-0.236339</td>\n",
       "      <td>1.000000</td>\n",
       "      <td>0.024523</td>\n",
       "      <td>NaN</td>\n",
       "      <td>0.039834</td>\n",
       "    </tr>\n",
       "    <tr>\n",
       "      <th>Dividends</th>\n",
       "      <td>-0.003560</td>\n",
       "      <td>-0.017799</td>\n",
       "      <td>-0.020172</td>\n",
       "      <td>-0.028479</td>\n",
       "      <td>0.024523</td>\n",
       "      <td>1.000000</td>\n",
       "      <td>NaN</td>\n",
       "      <td>-0.008700</td>\n",
       "    </tr>\n",
       "    <tr>\n",
       "      <th>Stock Splits</th>\n",
       "      <td>NaN</td>\n",
       "      <td>NaN</td>\n",
       "      <td>NaN</td>\n",
       "      <td>NaN</td>\n",
       "      <td>NaN</td>\n",
       "      <td>NaN</td>\n",
       "      <td>NaN</td>\n",
       "      <td>NaN</td>\n",
       "    </tr>\n",
       "    <tr>\n",
       "      <th>isRising</th>\n",
       "      <td>-0.017901</td>\n",
       "      <td>-0.019485</td>\n",
       "      <td>-0.027260</td>\n",
       "      <td>-0.039306</td>\n",
       "      <td>0.039834</td>\n",
       "      <td>-0.008700</td>\n",
       "      <td>NaN</td>\n",
       "      <td>1.000000</td>\n",
       "    </tr>\n",
       "  </tbody>\n",
       "</table>\n",
       "</div>"
      ],
      "text/plain": [
       "                  Open      High       Low     Close    Volume  Dividends  \\\n",
       "Open          1.000000  0.986273  0.986941  0.978154 -0.214937  -0.003560   \n",
       "High          0.986273  1.000000  0.991231  0.989614 -0.200642  -0.017799   \n",
       "Low           0.986941  0.991231  1.000000  0.991896 -0.252948  -0.020172   \n",
       "Close         0.978154  0.989614  0.991896  1.000000 -0.236339  -0.028479   \n",
       "Volume       -0.214937 -0.200642 -0.252948 -0.236339  1.000000   0.024523   \n",
       "Dividends    -0.003560 -0.017799 -0.020172 -0.028479  0.024523   1.000000   \n",
       "Stock Splits       NaN       NaN       NaN       NaN       NaN        NaN   \n",
       "isRising     -0.017901 -0.019485 -0.027260 -0.039306  0.039834  -0.008700   \n",
       "\n",
       "              Stock Splits  isRising  \n",
       "Open                   NaN -0.017901  \n",
       "High                   NaN -0.019485  \n",
       "Low                    NaN -0.027260  \n",
       "Close                  NaN -0.039306  \n",
       "Volume                 NaN  0.039834  \n",
       "Dividends              NaN -0.008700  \n",
       "Stock Splits           NaN       NaN  \n",
       "isRising               NaN  1.000000  "
      ]
     },
     "execution_count": 49,
     "metadata": {},
     "output_type": "execute_result"
    }
   ],
   "source": [
    "#pandas\n",
    "df4.corr(method='spearman')"
   ]
  },
  {
   "cell_type": "code",
   "execution_count": 50,
   "metadata": {},
   "outputs": [
    {
     "data": {
      "text/plain": [
       "KendalltauResult(correlation=-0.1515626518534169, pvalue=0.00021184587183887787)"
      ]
     },
     "execution_count": 50,
     "metadata": {},
     "output_type": "execute_result"
    }
   ],
   "source": [
    "stats.kendalltau(df4['High'], df4['Volume'])"
   ]
  },
  {
   "cell_type": "code",
   "execution_count": 51,
   "metadata": {},
   "outputs": [
    {
     "data": {
      "text/plain": [
       "SpearmanrResult(correlation=-0.20064217356936812, pvalue=0.0009357415602012129)"
      ]
     },
     "execution_count": 51,
     "metadata": {},
     "output_type": "execute_result"
    }
   ],
   "source": [
    "stats.spearmanr(df4.High, df4.Volume)"
   ]
  },
  {
   "cell_type": "markdown",
   "metadata": {},
   "source": [
    "## 3 Качественная результирующая переменная и качественный фактор.\n"
   ]
  },
  {
   "cell_type": "markdown",
   "metadata": {},
   "source": [
    "### 3.1 Матрица сопряженности"
   ]
  },
  {
   "cell_type": "code",
   "execution_count": 3,
   "metadata": {},
   "outputs": [
    {
     "data": {
      "text/html": [
       "<div>\n",
       "<style scoped>\n",
       "    .dataframe tbody tr th:only-of-type {\n",
       "        vertical-align: middle;\n",
       "    }\n",
       "\n",
       "    .dataframe tbody tr th {\n",
       "        vertical-align: top;\n",
       "    }\n",
       "\n",
       "    .dataframe thead th {\n",
       "        text-align: right;\n",
       "    }\n",
       "</style>\n",
       "<table border=\"1\" class=\"dataframe\">\n",
       "  <thead>\n",
       "    <tr style=\"text-align: right;\">\n",
       "      <th></th>\n",
       "      <th>Open</th>\n",
       "      <th>High</th>\n",
       "      <th>Low</th>\n",
       "      <th>Close</th>\n",
       "      <th>Volume</th>\n",
       "      <th>Dividends</th>\n",
       "      <th>Stock Splits</th>\n",
       "      <th>Date</th>\n",
       "      <th>isRising</th>\n",
       "    </tr>\n",
       "  </thead>\n",
       "  <tbody>\n",
       "    <tr>\n",
       "      <th>0</th>\n",
       "      <td>52.611363</td>\n",
       "      <td>52.960361</td>\n",
       "      <td>50.439822</td>\n",
       "      <td>51.147511</td>\n",
       "      <td>25611100</td>\n",
       "      <td>0.0</td>\n",
       "      <td>0</td>\n",
       "      <td>2021-01-04</td>\n",
       "      <td>0</td>\n",
       "    </tr>\n",
       "    <tr>\n",
       "      <th>1</th>\n",
       "      <td>50.730656</td>\n",
       "      <td>51.492006</td>\n",
       "      <td>50.439822</td>\n",
       "      <td>50.585239</td>\n",
       "      <td>20323800</td>\n",
       "      <td>0.0</td>\n",
       "      <td>0</td>\n",
       "      <td>2021-01-05</td>\n",
       "      <td>0</td>\n",
       "    </tr>\n",
       "    <tr>\n",
       "      <th>2</th>\n",
       "      <td>50.381660</td>\n",
       "      <td>50.430131</td>\n",
       "      <td>48.656059</td>\n",
       "      <td>48.975975</td>\n",
       "      <td>38724500</td>\n",
       "      <td>0.0</td>\n",
       "      <td>0</td>\n",
       "      <td>2021-01-06</td>\n",
       "      <td>0</td>\n",
       "    </tr>\n",
       "    <tr>\n",
       "      <th>3</th>\n",
       "      <td>48.559114</td>\n",
       "      <td>48.723917</td>\n",
       "      <td>48.006535</td>\n",
       "      <td>48.433086</td>\n",
       "      <td>53225700</td>\n",
       "      <td>0.0</td>\n",
       "      <td>0</td>\n",
       "      <td>2021-01-07</td>\n",
       "      <td>1</td>\n",
       "    </tr>\n",
       "    <tr>\n",
       "      <th>4</th>\n",
       "      <td>48.500948</td>\n",
       "      <td>49.567331</td>\n",
       "      <td>48.316756</td>\n",
       "      <td>49.518860</td>\n",
       "      <td>29674000</td>\n",
       "      <td>0.0</td>\n",
       "      <td>0</td>\n",
       "      <td>2021-01-08</td>\n",
       "      <td>0</td>\n",
       "    </tr>\n",
       "    <tr>\n",
       "      <th>...</th>\n",
       "      <td>...</td>\n",
       "      <td>...</td>\n",
       "      <td>...</td>\n",
       "      <td>...</td>\n",
       "      <td>...</td>\n",
       "      <td>...</td>\n",
       "      <td>...</td>\n",
       "      <td>...</td>\n",
       "      <td>...</td>\n",
       "    </tr>\n",
       "    <tr>\n",
       "      <th>264</th>\n",
       "      <td>61.000000</td>\n",
       "      <td>61.439999</td>\n",
       "      <td>60.720001</td>\n",
       "      <td>60.750000</td>\n",
       "      <td>23002400</td>\n",
       "      <td>0.0</td>\n",
       "      <td>0</td>\n",
       "      <td>2022-01-20</td>\n",
       "      <td>0</td>\n",
       "    </tr>\n",
       "    <tr>\n",
       "      <th>265</th>\n",
       "      <td>61.080002</td>\n",
       "      <td>61.299999</td>\n",
       "      <td>60.400002</td>\n",
       "      <td>60.450001</td>\n",
       "      <td>26641500</td>\n",
       "      <td>0.0</td>\n",
       "      <td>0</td>\n",
       "      <td>2022-01-21</td>\n",
       "      <td>0</td>\n",
       "    </tr>\n",
       "    <tr>\n",
       "      <th>266</th>\n",
       "      <td>59.900002</td>\n",
       "      <td>60.349998</td>\n",
       "      <td>58.570000</td>\n",
       "      <td>59.959999</td>\n",
       "      <td>30207500</td>\n",
       "      <td>0.0</td>\n",
       "      <td>0</td>\n",
       "      <td>2022-01-24</td>\n",
       "      <td>0</td>\n",
       "    </tr>\n",
       "    <tr>\n",
       "      <th>267</th>\n",
       "      <td>59.360001</td>\n",
       "      <td>60.049999</td>\n",
       "      <td>58.689999</td>\n",
       "      <td>59.820000</td>\n",
       "      <td>19027100</td>\n",
       "      <td>0.0</td>\n",
       "      <td>0</td>\n",
       "      <td>2022-01-25</td>\n",
       "      <td>0</td>\n",
       "    </tr>\n",
       "    <tr>\n",
       "      <th>268</th>\n",
       "      <td>59.790001</td>\n",
       "      <td>60.349998</td>\n",
       "      <td>59.209999</td>\n",
       "      <td>59.599998</td>\n",
       "      <td>19187900</td>\n",
       "      <td>0.0</td>\n",
       "      <td>0</td>\n",
       "      <td>2022-01-26</td>\n",
       "      <td>0</td>\n",
       "    </tr>\n",
       "  </tbody>\n",
       "</table>\n",
       "<p>269 rows × 9 columns</p>\n",
       "</div>"
      ],
      "text/plain": [
       "          Open       High        Low      Close    Volume  Dividends  \\\n",
       "0    52.611363  52.960361  50.439822  51.147511  25611100        0.0   \n",
       "1    50.730656  51.492006  50.439822  50.585239  20323800        0.0   \n",
       "2    50.381660  50.430131  48.656059  48.975975  38724500        0.0   \n",
       "3    48.559114  48.723917  48.006535  48.433086  53225700        0.0   \n",
       "4    48.500948  49.567331  48.316756  49.518860  29674000        0.0   \n",
       "..         ...        ...        ...        ...       ...        ...   \n",
       "264  61.000000  61.439999  60.720001  60.750000  23002400        0.0   \n",
       "265  61.080002  61.299999  60.400002  60.450001  26641500        0.0   \n",
       "266  59.900002  60.349998  58.570000  59.959999  30207500        0.0   \n",
       "267  59.360001  60.049999  58.689999  59.820000  19027100        0.0   \n",
       "268  59.790001  60.349998  59.209999  59.599998  19187900        0.0   \n",
       "\n",
       "     Stock Splits        Date  isRising  \n",
       "0               0  2021-01-04         0  \n",
       "1               0  2021-01-05         0  \n",
       "2               0  2021-01-06         0  \n",
       "3               0  2021-01-07         1  \n",
       "4               0  2021-01-08         0  \n",
       "..            ...         ...       ...  \n",
       "264             0  2022-01-20         0  \n",
       "265             0  2022-01-21         0  \n",
       "266             0  2022-01-24         0  \n",
       "267             0  2022-01-25         0  \n",
       "268             0  2022-01-26         0  \n",
       "\n",
       "[269 rows x 9 columns]"
      ]
     },
     "execution_count": 3,
     "metadata": {},
     "output_type": "execute_result"
    }
   ],
   "source": [
    "df5=pd.read_excel(r\"C:\\Users\\Goba-PC\\Desktop\\python\\obrabotka\\Coca-Cola_stock_history_k_averege_fill.xlsx\")\n",
    "del df5['Unnamed: 0']\n",
    "df5"
   ]
  },
  {
   "cell_type": "code",
   "execution_count": 4,
   "metadata": {},
   "outputs": [
    {
     "data": {
      "text/html": [
       "<div>\n",
       "<style scoped>\n",
       "    .dataframe tbody tr th:only-of-type {\n",
       "        vertical-align: middle;\n",
       "    }\n",
       "\n",
       "    .dataframe tbody tr th {\n",
       "        vertical-align: top;\n",
       "    }\n",
       "\n",
       "    .dataframe thead th {\n",
       "        text-align: right;\n",
       "    }\n",
       "</style>\n",
       "<table border=\"1\" class=\"dataframe\">\n",
       "  <thead>\n",
       "    <tr style=\"text-align: right;\">\n",
       "      <th>Volume</th>\n",
       "      <th>6169200</th>\n",
       "      <th>7257700</th>\n",
       "      <th>7703900</th>\n",
       "      <th>7713600</th>\n",
       "      <th>7972000</th>\n",
       "      <th>8370700</th>\n",
       "      <th>8565300</th>\n",
       "      <th>8681100</th>\n",
       "      <th>8813600</th>\n",
       "      <th>8825500</th>\n",
       "      <th>...</th>\n",
       "      <th>30485200</th>\n",
       "      <th>31362800</th>\n",
       "      <th>31445600</th>\n",
       "      <th>33370200</th>\n",
       "      <th>34303600</th>\n",
       "      <th>38724500</th>\n",
       "      <th>51874400</th>\n",
       "      <th>53225700</th>\n",
       "      <th>59109600</th>\n",
       "      <th>67845700</th>\n",
       "    </tr>\n",
       "    <tr>\n",
       "      <th>isRising</th>\n",
       "      <th></th>\n",
       "      <th></th>\n",
       "      <th></th>\n",
       "      <th></th>\n",
       "      <th></th>\n",
       "      <th></th>\n",
       "      <th></th>\n",
       "      <th></th>\n",
       "      <th></th>\n",
       "      <th></th>\n",
       "      <th></th>\n",
       "      <th></th>\n",
       "      <th></th>\n",
       "      <th></th>\n",
       "      <th></th>\n",
       "      <th></th>\n",
       "      <th></th>\n",
       "      <th></th>\n",
       "      <th></th>\n",
       "      <th></th>\n",
       "      <th></th>\n",
       "    </tr>\n",
       "  </thead>\n",
       "  <tbody>\n",
       "    <tr>\n",
       "      <th>0</th>\n",
       "      <td>0</td>\n",
       "      <td>1</td>\n",
       "      <td>0</td>\n",
       "      <td>0</td>\n",
       "      <td>1</td>\n",
       "      <td>0</td>\n",
       "      <td>1</td>\n",
       "      <td>0</td>\n",
       "      <td>0</td>\n",
       "      <td>1</td>\n",
       "      <td>...</td>\n",
       "      <td>1</td>\n",
       "      <td>0</td>\n",
       "      <td>0</td>\n",
       "      <td>1</td>\n",
       "      <td>1</td>\n",
       "      <td>1</td>\n",
       "      <td>1</td>\n",
       "      <td>0</td>\n",
       "      <td>1</td>\n",
       "      <td>0</td>\n",
       "    </tr>\n",
       "    <tr>\n",
       "      <th>1</th>\n",
       "      <td>1</td>\n",
       "      <td>0</td>\n",
       "      <td>1</td>\n",
       "      <td>1</td>\n",
       "      <td>0</td>\n",
       "      <td>1</td>\n",
       "      <td>0</td>\n",
       "      <td>1</td>\n",
       "      <td>1</td>\n",
       "      <td>0</td>\n",
       "      <td>...</td>\n",
       "      <td>0</td>\n",
       "      <td>1</td>\n",
       "      <td>1</td>\n",
       "      <td>0</td>\n",
       "      <td>0</td>\n",
       "      <td>0</td>\n",
       "      <td>0</td>\n",
       "      <td>1</td>\n",
       "      <td>0</td>\n",
       "      <td>1</td>\n",
       "    </tr>\n",
       "  </tbody>\n",
       "</table>\n",
       "<p>2 rows × 269 columns</p>\n",
       "</div>"
      ],
      "text/plain": [
       "Volume    6169200   7257700   7703900   7713600   7972000   8370700   \\\n",
       "isRising                                                               \n",
       "0                0         1         0         0         1         0   \n",
       "1                1         0         1         1         0         1   \n",
       "\n",
       "Volume    8565300   8681100   8813600   8825500   ...  30485200  31362800  \\\n",
       "isRising                                          ...                       \n",
       "0                1         0         0         1  ...         1         0   \n",
       "1                0         1         1         0  ...         0         1   \n",
       "\n",
       "Volume    31445600  33370200  34303600  38724500  51874400  53225700  \\\n",
       "isRising                                                               \n",
       "0                0         1         1         1         1         0   \n",
       "1                1         0         0         0         0         1   \n",
       "\n",
       "Volume    59109600  67845700  \n",
       "isRising                      \n",
       "0                1         0  \n",
       "1                0         1  \n",
       "\n",
       "[2 rows x 269 columns]"
      ]
     },
     "execution_count": 4,
     "metadata": {},
     "output_type": "execute_result"
    }
   ],
   "source": [
    "df5['N'] = pd.qcut(df5.Volume, 2)\n",
    "tab= pd.crosstab(df5['isRising'], df5['Volume'])\n",
    "tab"
   ]
  },
  {
   "cell_type": "markdown",
   "metadata": {},
   "source": [
    "### 3.2 Тест Хи-квадрат"
   ]
  },
  {
   "cell_type": "code",
   "execution_count": 7,
   "metadata": {
    "scrolled": false
   },
   "outputs": [
    {
     "data": {
      "text/plain": [
       "(269.0,\n",
       " 0.471328151950029,\n",
       " 268,\n",
       " array([[0.46468401, 0.46468401, 0.46468401, 0.46468401, 0.46468401,\n",
       "         0.46468401, 0.46468401, 0.46468401, 0.46468401, 0.46468401,\n",
       "         0.46468401, 0.46468401, 0.46468401, 0.46468401, 0.46468401,\n",
       "         0.46468401, 0.46468401, 0.46468401, 0.46468401, 0.46468401,\n",
       "         0.46468401, 0.46468401, 0.46468401, 0.46468401, 0.46468401,\n",
       "         0.46468401, 0.46468401, 0.46468401, 0.46468401, 0.46468401,\n",
       "         0.46468401, 0.46468401, 0.46468401, 0.46468401, 0.46468401,\n",
       "         0.46468401, 0.46468401, 0.46468401, 0.46468401, 0.46468401,\n",
       "         0.46468401, 0.46468401, 0.46468401, 0.46468401, 0.46468401,\n",
       "         0.46468401, 0.46468401, 0.46468401, 0.46468401, 0.46468401,\n",
       "         0.46468401, 0.46468401, 0.46468401, 0.46468401, 0.46468401,\n",
       "         0.46468401, 0.46468401, 0.46468401, 0.46468401, 0.46468401,\n",
       "         0.46468401, 0.46468401, 0.46468401, 0.46468401, 0.46468401,\n",
       "         0.46468401, 0.46468401, 0.46468401, 0.46468401, 0.46468401,\n",
       "         0.46468401, 0.46468401, 0.46468401, 0.46468401, 0.46468401,\n",
       "         0.46468401, 0.46468401, 0.46468401, 0.46468401, 0.46468401,\n",
       "         0.46468401, 0.46468401, 0.46468401, 0.46468401, 0.46468401,\n",
       "         0.46468401, 0.46468401, 0.46468401, 0.46468401, 0.46468401,\n",
       "         0.46468401, 0.46468401, 0.46468401, 0.46468401, 0.46468401,\n",
       "         0.46468401, 0.46468401, 0.46468401, 0.46468401, 0.46468401,\n",
       "         0.46468401, 0.46468401, 0.46468401, 0.46468401, 0.46468401,\n",
       "         0.46468401, 0.46468401, 0.46468401, 0.46468401, 0.46468401,\n",
       "         0.46468401, 0.46468401, 0.46468401, 0.46468401, 0.46468401,\n",
       "         0.46468401, 0.46468401, 0.46468401, 0.46468401, 0.46468401,\n",
       "         0.46468401, 0.46468401, 0.46468401, 0.46468401, 0.46468401,\n",
       "         0.46468401, 0.46468401, 0.46468401, 0.46468401, 0.46468401,\n",
       "         0.46468401, 0.46468401, 0.46468401, 0.46468401, 0.46468401,\n",
       "         0.46468401, 0.46468401, 0.46468401, 0.46468401, 0.46468401,\n",
       "         0.46468401, 0.46468401, 0.46468401, 0.46468401, 0.46468401,\n",
       "         0.46468401, 0.46468401, 0.46468401, 0.46468401, 0.46468401,\n",
       "         0.46468401, 0.46468401, 0.46468401, 0.46468401, 0.46468401,\n",
       "         0.46468401, 0.46468401, 0.46468401, 0.46468401, 0.46468401,\n",
       "         0.46468401, 0.46468401, 0.46468401, 0.46468401, 0.46468401,\n",
       "         0.46468401, 0.46468401, 0.46468401, 0.46468401, 0.46468401,\n",
       "         0.46468401, 0.46468401, 0.46468401, 0.46468401, 0.46468401,\n",
       "         0.46468401, 0.46468401, 0.46468401, 0.46468401, 0.46468401,\n",
       "         0.46468401, 0.46468401, 0.46468401, 0.46468401, 0.46468401,\n",
       "         0.46468401, 0.46468401, 0.46468401, 0.46468401, 0.46468401,\n",
       "         0.46468401, 0.46468401, 0.46468401, 0.46468401, 0.46468401,\n",
       "         0.46468401, 0.46468401, 0.46468401, 0.46468401, 0.46468401,\n",
       "         0.46468401, 0.46468401, 0.46468401, 0.46468401, 0.46468401,\n",
       "         0.46468401, 0.46468401, 0.46468401, 0.46468401, 0.46468401,\n",
       "         0.46468401, 0.46468401, 0.46468401, 0.46468401, 0.46468401,\n",
       "         0.46468401, 0.46468401, 0.46468401, 0.46468401, 0.46468401,\n",
       "         0.46468401, 0.46468401, 0.46468401, 0.46468401, 0.46468401,\n",
       "         0.46468401, 0.46468401, 0.46468401, 0.46468401, 0.46468401,\n",
       "         0.46468401, 0.46468401, 0.46468401, 0.46468401, 0.46468401,\n",
       "         0.46468401, 0.46468401, 0.46468401, 0.46468401, 0.46468401,\n",
       "         0.46468401, 0.46468401, 0.46468401, 0.46468401, 0.46468401,\n",
       "         0.46468401, 0.46468401, 0.46468401, 0.46468401, 0.46468401,\n",
       "         0.46468401, 0.46468401, 0.46468401, 0.46468401, 0.46468401,\n",
       "         0.46468401, 0.46468401, 0.46468401, 0.46468401, 0.46468401,\n",
       "         0.46468401, 0.46468401, 0.46468401, 0.46468401, 0.46468401,\n",
       "         0.46468401, 0.46468401, 0.46468401, 0.46468401],\n",
       "        [0.53531599, 0.53531599, 0.53531599, 0.53531599, 0.53531599,\n",
       "         0.53531599, 0.53531599, 0.53531599, 0.53531599, 0.53531599,\n",
       "         0.53531599, 0.53531599, 0.53531599, 0.53531599, 0.53531599,\n",
       "         0.53531599, 0.53531599, 0.53531599, 0.53531599, 0.53531599,\n",
       "         0.53531599, 0.53531599, 0.53531599, 0.53531599, 0.53531599,\n",
       "         0.53531599, 0.53531599, 0.53531599, 0.53531599, 0.53531599,\n",
       "         0.53531599, 0.53531599, 0.53531599, 0.53531599, 0.53531599,\n",
       "         0.53531599, 0.53531599, 0.53531599, 0.53531599, 0.53531599,\n",
       "         0.53531599, 0.53531599, 0.53531599, 0.53531599, 0.53531599,\n",
       "         0.53531599, 0.53531599, 0.53531599, 0.53531599, 0.53531599,\n",
       "         0.53531599, 0.53531599, 0.53531599, 0.53531599, 0.53531599,\n",
       "         0.53531599, 0.53531599, 0.53531599, 0.53531599, 0.53531599,\n",
       "         0.53531599, 0.53531599, 0.53531599, 0.53531599, 0.53531599,\n",
       "         0.53531599, 0.53531599, 0.53531599, 0.53531599, 0.53531599,\n",
       "         0.53531599, 0.53531599, 0.53531599, 0.53531599, 0.53531599,\n",
       "         0.53531599, 0.53531599, 0.53531599, 0.53531599, 0.53531599,\n",
       "         0.53531599, 0.53531599, 0.53531599, 0.53531599, 0.53531599,\n",
       "         0.53531599, 0.53531599, 0.53531599, 0.53531599, 0.53531599,\n",
       "         0.53531599, 0.53531599, 0.53531599, 0.53531599, 0.53531599,\n",
       "         0.53531599, 0.53531599, 0.53531599, 0.53531599, 0.53531599,\n",
       "         0.53531599, 0.53531599, 0.53531599, 0.53531599, 0.53531599,\n",
       "         0.53531599, 0.53531599, 0.53531599, 0.53531599, 0.53531599,\n",
       "         0.53531599, 0.53531599, 0.53531599, 0.53531599, 0.53531599,\n",
       "         0.53531599, 0.53531599, 0.53531599, 0.53531599, 0.53531599,\n",
       "         0.53531599, 0.53531599, 0.53531599, 0.53531599, 0.53531599,\n",
       "         0.53531599, 0.53531599, 0.53531599, 0.53531599, 0.53531599,\n",
       "         0.53531599, 0.53531599, 0.53531599, 0.53531599, 0.53531599,\n",
       "         0.53531599, 0.53531599, 0.53531599, 0.53531599, 0.53531599,\n",
       "         0.53531599, 0.53531599, 0.53531599, 0.53531599, 0.53531599,\n",
       "         0.53531599, 0.53531599, 0.53531599, 0.53531599, 0.53531599,\n",
       "         0.53531599, 0.53531599, 0.53531599, 0.53531599, 0.53531599,\n",
       "         0.53531599, 0.53531599, 0.53531599, 0.53531599, 0.53531599,\n",
       "         0.53531599, 0.53531599, 0.53531599, 0.53531599, 0.53531599,\n",
       "         0.53531599, 0.53531599, 0.53531599, 0.53531599, 0.53531599,\n",
       "         0.53531599, 0.53531599, 0.53531599, 0.53531599, 0.53531599,\n",
       "         0.53531599, 0.53531599, 0.53531599, 0.53531599, 0.53531599,\n",
       "         0.53531599, 0.53531599, 0.53531599, 0.53531599, 0.53531599,\n",
       "         0.53531599, 0.53531599, 0.53531599, 0.53531599, 0.53531599,\n",
       "         0.53531599, 0.53531599, 0.53531599, 0.53531599, 0.53531599,\n",
       "         0.53531599, 0.53531599, 0.53531599, 0.53531599, 0.53531599,\n",
       "         0.53531599, 0.53531599, 0.53531599, 0.53531599, 0.53531599,\n",
       "         0.53531599, 0.53531599, 0.53531599, 0.53531599, 0.53531599,\n",
       "         0.53531599, 0.53531599, 0.53531599, 0.53531599, 0.53531599,\n",
       "         0.53531599, 0.53531599, 0.53531599, 0.53531599, 0.53531599,\n",
       "         0.53531599, 0.53531599, 0.53531599, 0.53531599, 0.53531599,\n",
       "         0.53531599, 0.53531599, 0.53531599, 0.53531599, 0.53531599,\n",
       "         0.53531599, 0.53531599, 0.53531599, 0.53531599, 0.53531599,\n",
       "         0.53531599, 0.53531599, 0.53531599, 0.53531599, 0.53531599,\n",
       "         0.53531599, 0.53531599, 0.53531599, 0.53531599, 0.53531599,\n",
       "         0.53531599, 0.53531599, 0.53531599, 0.53531599, 0.53531599,\n",
       "         0.53531599, 0.53531599, 0.53531599, 0.53531599, 0.53531599,\n",
       "         0.53531599, 0.53531599, 0.53531599, 0.53531599, 0.53531599,\n",
       "         0.53531599, 0.53531599, 0.53531599, 0.53531599, 0.53531599,\n",
       "         0.53531599, 0.53531599, 0.53531599, 0.53531599]]))"
      ]
     },
     "execution_count": 7,
     "metadata": {},
     "output_type": "execute_result"
    }
   ],
   "source": [
    "stats.chi2_contingency(tab)"
   ]
  },
  {
   "cell_type": "code",
   "execution_count": null,
   "metadata": {},
   "outputs": [],
   "source": []
  },
  {
   "cell_type": "code",
   "execution_count": null,
   "metadata": {},
   "outputs": [],
   "source": []
  },
  {
   "cell_type": "code",
   "execution_count": null,
   "metadata": {},
   "outputs": [],
   "source": []
  },
  {
   "cell_type": "code",
   "execution_count": null,
   "metadata": {},
   "outputs": [],
   "source": []
  },
  {
   "cell_type": "code",
   "execution_count": null,
   "metadata": {},
   "outputs": [],
   "source": []
  },
  {
   "cell_type": "code",
   "execution_count": null,
   "metadata": {},
   "outputs": [],
   "source": []
  },
  {
   "cell_type": "code",
   "execution_count": null,
   "metadata": {},
   "outputs": [],
   "source": []
  },
  {
   "cell_type": "code",
   "execution_count": null,
   "metadata": {},
   "outputs": [],
   "source": []
  },
  {
   "cell_type": "code",
   "execution_count": null,
   "metadata": {},
   "outputs": [],
   "source": []
  },
  {
   "cell_type": "code",
   "execution_count": null,
   "metadata": {},
   "outputs": [],
   "source": []
  },
  {
   "cell_type": "code",
   "execution_count": 210,
   "metadata": {
    "scrolled": false
   },
   "outputs": [
    {
     "data": {
      "text/html": [
       "<div>\n",
       "<style scoped>\n",
       "    .dataframe tbody tr th:only-of-type {\n",
       "        vertical-align: middle;\n",
       "    }\n",
       "\n",
       "    .dataframe tbody tr th {\n",
       "        vertical-align: top;\n",
       "    }\n",
       "\n",
       "    .dataframe thead th {\n",
       "        text-align: right;\n",
       "    }\n",
       "</style>\n",
       "<table border=\"1\" class=\"dataframe\">\n",
       "  <thead>\n",
       "    <tr style=\"text-align: right;\">\n",
       "      <th>Благонадежный заемщик</th>\n",
       "      <th>0</th>\n",
       "      <th>1</th>\n",
       "    </tr>\n",
       "    <tr>\n",
       "      <th>Иждивенцы</th>\n",
       "      <th></th>\n",
       "      <th></th>\n",
       "    </tr>\n",
       "  </thead>\n",
       "  <tbody>\n",
       "    <tr>\n",
       "      <th>0</th>\n",
       "      <td>122</td>\n",
       "      <td>206</td>\n",
       "    </tr>\n",
       "    <tr>\n",
       "      <th>1</th>\n",
       "      <td>195</td>\n",
       "      <td>192</td>\n",
       "    </tr>\n",
       "    <tr>\n",
       "      <th>2</th>\n",
       "      <td>139</td>\n",
       "      <td>81</td>\n",
       "    </tr>\n",
       "    <tr>\n",
       "      <th>3</th>\n",
       "      <td>34</td>\n",
       "      <td>10</td>\n",
       "    </tr>\n",
       "    <tr>\n",
       "      <th>4</th>\n",
       "      <td>17</td>\n",
       "      <td>3</td>\n",
       "    </tr>\n",
       "  </tbody>\n",
       "</table>\n",
       "</div>"
      ],
      "text/plain": [
       "Благонадежный заемщик    0    1\n",
       "Иждивенцы                      \n",
       "0                      122  206\n",
       "1                      195  192\n",
       "2                      139   81\n",
       "3                       34   10\n",
       "4                       17    3"
      ]
     },
     "execution_count": 210,
     "metadata": {},
     "output_type": "execute_result"
    }
   ],
   "source": [
    "tab1=pd.crosstab(df4['Иждивенцы'], df4['Благонадежный заемщик'])\n",
    "tab1"
   ]
  },
  {
   "cell_type": "code",
   "execution_count": null,
   "metadata": {},
   "outputs": [],
   "source": []
  },
  {
   "cell_type": "code",
   "execution_count": null,
   "metadata": {},
   "outputs": [],
   "source": []
  },
  {
   "cell_type": "code",
   "execution_count": 18,
   "metadata": {},
   "outputs": [
    {
     "data": {
      "text/plain": [
       "(59.5054594385479,\n",
       " 3.6849986464421974e-12,\n",
       " 4,\n",
       " array([[166.46246246, 161.53753754],\n",
       "        [196.40540541, 190.59459459],\n",
       "        [111.65165165, 108.34834835],\n",
       "        [ 22.33033033,  21.66966967],\n",
       "        [ 10.15015015,   9.84984985]]))"
      ]
     },
     "execution_count": 18,
     "metadata": {},
     "output_type": "execute_result"
    }
   ],
   "source": [
    "stats.chi2_contingency(pd.crosstab(df4['Иждивенцы'], df4['Благонадежный заемщик']))"
   ]
  },
  {
   "cell_type": "markdown",
   "metadata": {},
   "source": [
    "### 3.3 Тест Фишера"
   ]
  },
  {
   "cell_type": "code",
   "execution_count": 62,
   "metadata": {},
   "outputs": [
    {
     "name": "stdout",
     "output_type": "stream",
     "text": [
      "1.3710395391463734 0.2222023287233143\n"
     ]
    }
   ],
   "source": [
    "oddsratio, pvalue = stats.fisher_exact(tab)\n",
    "print(oddsratio, pvalue)"
   ]
  },
  {
   "cell_type": "code",
   "execution_count": null,
   "metadata": {},
   "outputs": [],
   "source": []
  }
 ],
 "metadata": {
  "kernelspec": {
   "display_name": "Python 3 (ipykernel)",
   "language": "python",
   "name": "python3"
  },
  "language_info": {
   "codemirror_mode": {
    "name": "ipython",
    "version": 3
   },
   "file_extension": ".py",
   "mimetype": "text/x-python",
   "name": "python",
   "nbconvert_exporter": "python",
   "pygments_lexer": "ipython3",
   "version": "3.9.4"
  }
 },
 "nbformat": 4,
 "nbformat_minor": 2
}
