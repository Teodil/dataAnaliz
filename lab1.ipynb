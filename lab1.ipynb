{
  "nbformat": 4,
  "nbformat_minor": 0,
  "metadata": {
    "colab": {
      "provenance": [],
      "collapsed_sections": [],
      "mount_file_id": "1XulNbEBYg2XxpFLr_TJhFS7A8d9KQ-Iw",
      "authorship_tag": "ABX9TyPJxX7pyK6MpzN+jg5Sxh97",
      "include_colab_link": true
    },
    "kernelspec": {
      "name": "python3",
      "display_name": "Python 3"
    },
    "language_info": {
      "name": "python"
    },
    "widgets": {
      "application/vnd.jupyter.widget-state+json": {
        "fd164f0327ab45b3b3aa4238e8907879": {
          "model_module": "@jupyter-widgets/controls",
          "model_name": "HBoxModel",
          "model_module_version": "1.5.0",
          "state": {
            "_dom_classes": [],
            "_model_module": "@jupyter-widgets/controls",
            "_model_module_version": "1.5.0",
            "_model_name": "HBoxModel",
            "_view_count": null,
            "_view_module": "@jupyter-widgets/controls",
            "_view_module_version": "1.5.0",
            "_view_name": "HBoxView",
            "box_style": "",
            "children": [
              "IPY_MODEL_f19a6ab2da1c434dbdea1e89ff7d7c67",
              "IPY_MODEL_9822d4511b6a41b8988ed8473453990e",
              "IPY_MODEL_8a29431a180e4a82ae79a01e4660b256"
            ],
            "layout": "IPY_MODEL_c179daed16dd4af18603b5e4bf2ded30"
          }
        },
        "f19a6ab2da1c434dbdea1e89ff7d7c67": {
          "model_module": "@jupyter-widgets/controls",
          "model_name": "HTMLModel",
          "model_module_version": "1.5.0",
          "state": {
            "_dom_classes": [],
            "_model_module": "@jupyter-widgets/controls",
            "_model_module_version": "1.5.0",
            "_model_name": "HTMLModel",
            "_view_count": null,
            "_view_module": "@jupyter-widgets/controls",
            "_view_module_version": "1.5.0",
            "_view_name": "HTMLView",
            "description": "",
            "description_tooltip": null,
            "layout": "IPY_MODEL_363cf86192a541e2ac85678189081977",
            "placeholder": "​",
            "style": "IPY_MODEL_daf3e6b3ba33411496b2cd3fb173a0bc",
            "value": "100%"
          }
        },
        "9822d4511b6a41b8988ed8473453990e": {
          "model_module": "@jupyter-widgets/controls",
          "model_name": "FloatProgressModel",
          "model_module_version": "1.5.0",
          "state": {
            "_dom_classes": [],
            "_model_module": "@jupyter-widgets/controls",
            "_model_module_version": "1.5.0",
            "_model_name": "FloatProgressModel",
            "_view_count": null,
            "_view_module": "@jupyter-widgets/controls",
            "_view_module_version": "1.5.0",
            "_view_name": "ProgressView",
            "bar_style": "success",
            "description": "",
            "description_tooltip": null,
            "layout": "IPY_MODEL_f666a11998c74ebc8f5865dc5458e895",
            "max": 1000,
            "min": 0,
            "orientation": "horizontal",
            "style": "IPY_MODEL_5b0abf9092d44d869bfd7fa1b0cbbcf9",
            "value": 1000
          }
        },
        "8a29431a180e4a82ae79a01e4660b256": {
          "model_module": "@jupyter-widgets/controls",
          "model_name": "HTMLModel",
          "model_module_version": "1.5.0",
          "state": {
            "_dom_classes": [],
            "_model_module": "@jupyter-widgets/controls",
            "_model_module_version": "1.5.0",
            "_model_name": "HTMLModel",
            "_view_count": null,
            "_view_module": "@jupyter-widgets/controls",
            "_view_module_version": "1.5.0",
            "_view_name": "HTMLView",
            "description": "",
            "description_tooltip": null,
            "layout": "IPY_MODEL_2abe9b992f6d48d6a9e0856550d2f2fa",
            "placeholder": "​",
            "style": "IPY_MODEL_d3352f81b5c8487191bfdfd06c69006e",
            "value": " 1000/1000 [02:55&lt;00:00,  4.33it/s]"
          }
        },
        "c179daed16dd4af18603b5e4bf2ded30": {
          "model_module": "@jupyter-widgets/base",
          "model_name": "LayoutModel",
          "model_module_version": "1.2.0",
          "state": {
            "_model_module": "@jupyter-widgets/base",
            "_model_module_version": "1.2.0",
            "_model_name": "LayoutModel",
            "_view_count": null,
            "_view_module": "@jupyter-widgets/base",
            "_view_module_version": "1.2.0",
            "_view_name": "LayoutView",
            "align_content": null,
            "align_items": null,
            "align_self": null,
            "border": null,
            "bottom": null,
            "display": null,
            "flex": null,
            "flex_flow": null,
            "grid_area": null,
            "grid_auto_columns": null,
            "grid_auto_flow": null,
            "grid_auto_rows": null,
            "grid_column": null,
            "grid_gap": null,
            "grid_row": null,
            "grid_template_areas": null,
            "grid_template_columns": null,
            "grid_template_rows": null,
            "height": null,
            "justify_content": null,
            "justify_items": null,
            "left": null,
            "margin": null,
            "max_height": null,
            "max_width": null,
            "min_height": null,
            "min_width": null,
            "object_fit": null,
            "object_position": null,
            "order": null,
            "overflow": null,
            "overflow_x": null,
            "overflow_y": null,
            "padding": null,
            "right": null,
            "top": null,
            "visibility": null,
            "width": null
          }
        },
        "363cf86192a541e2ac85678189081977": {
          "model_module": "@jupyter-widgets/base",
          "model_name": "LayoutModel",
          "model_module_version": "1.2.0",
          "state": {
            "_model_module": "@jupyter-widgets/base",
            "_model_module_version": "1.2.0",
            "_model_name": "LayoutModel",
            "_view_count": null,
            "_view_module": "@jupyter-widgets/base",
            "_view_module_version": "1.2.0",
            "_view_name": "LayoutView",
            "align_content": null,
            "align_items": null,
            "align_self": null,
            "border": null,
            "bottom": null,
            "display": null,
            "flex": null,
            "flex_flow": null,
            "grid_area": null,
            "grid_auto_columns": null,
            "grid_auto_flow": null,
            "grid_auto_rows": null,
            "grid_column": null,
            "grid_gap": null,
            "grid_row": null,
            "grid_template_areas": null,
            "grid_template_columns": null,
            "grid_template_rows": null,
            "height": null,
            "justify_content": null,
            "justify_items": null,
            "left": null,
            "margin": null,
            "max_height": null,
            "max_width": null,
            "min_height": null,
            "min_width": null,
            "object_fit": null,
            "object_position": null,
            "order": null,
            "overflow": null,
            "overflow_x": null,
            "overflow_y": null,
            "padding": null,
            "right": null,
            "top": null,
            "visibility": null,
            "width": null
          }
        },
        "daf3e6b3ba33411496b2cd3fb173a0bc": {
          "model_module": "@jupyter-widgets/controls",
          "model_name": "DescriptionStyleModel",
          "model_module_version": "1.5.0",
          "state": {
            "_model_module": "@jupyter-widgets/controls",
            "_model_module_version": "1.5.0",
            "_model_name": "DescriptionStyleModel",
            "_view_count": null,
            "_view_module": "@jupyter-widgets/base",
            "_view_module_version": "1.2.0",
            "_view_name": "StyleView",
            "description_width": ""
          }
        },
        "f666a11998c74ebc8f5865dc5458e895": {
          "model_module": "@jupyter-widgets/base",
          "model_name": "LayoutModel",
          "model_module_version": "1.2.0",
          "state": {
            "_model_module": "@jupyter-widgets/base",
            "_model_module_version": "1.2.0",
            "_model_name": "LayoutModel",
            "_view_count": null,
            "_view_module": "@jupyter-widgets/base",
            "_view_module_version": "1.2.0",
            "_view_name": "LayoutView",
            "align_content": null,
            "align_items": null,
            "align_self": null,
            "border": null,
            "bottom": null,
            "display": null,
            "flex": null,
            "flex_flow": null,
            "grid_area": null,
            "grid_auto_columns": null,
            "grid_auto_flow": null,
            "grid_auto_rows": null,
            "grid_column": null,
            "grid_gap": null,
            "grid_row": null,
            "grid_template_areas": null,
            "grid_template_columns": null,
            "grid_template_rows": null,
            "height": null,
            "justify_content": null,
            "justify_items": null,
            "left": null,
            "margin": null,
            "max_height": null,
            "max_width": null,
            "min_height": null,
            "min_width": null,
            "object_fit": null,
            "object_position": null,
            "order": null,
            "overflow": null,
            "overflow_x": null,
            "overflow_y": null,
            "padding": null,
            "right": null,
            "top": null,
            "visibility": null,
            "width": null
          }
        },
        "5b0abf9092d44d869bfd7fa1b0cbbcf9": {
          "model_module": "@jupyter-widgets/controls",
          "model_name": "ProgressStyleModel",
          "model_module_version": "1.5.0",
          "state": {
            "_model_module": "@jupyter-widgets/controls",
            "_model_module_version": "1.5.0",
            "_model_name": "ProgressStyleModel",
            "_view_count": null,
            "_view_module": "@jupyter-widgets/base",
            "_view_module_version": "1.2.0",
            "_view_name": "StyleView",
            "bar_color": null,
            "description_width": ""
          }
        },
        "2abe9b992f6d48d6a9e0856550d2f2fa": {
          "model_module": "@jupyter-widgets/base",
          "model_name": "LayoutModel",
          "model_module_version": "1.2.0",
          "state": {
            "_model_module": "@jupyter-widgets/base",
            "_model_module_version": "1.2.0",
            "_model_name": "LayoutModel",
            "_view_count": null,
            "_view_module": "@jupyter-widgets/base",
            "_view_module_version": "1.2.0",
            "_view_name": "LayoutView",
            "align_content": null,
            "align_items": null,
            "align_self": null,
            "border": null,
            "bottom": null,
            "display": null,
            "flex": null,
            "flex_flow": null,
            "grid_area": null,
            "grid_auto_columns": null,
            "grid_auto_flow": null,
            "grid_auto_rows": null,
            "grid_column": null,
            "grid_gap": null,
            "grid_row": null,
            "grid_template_areas": null,
            "grid_template_columns": null,
            "grid_template_rows": null,
            "height": null,
            "justify_content": null,
            "justify_items": null,
            "left": null,
            "margin": null,
            "max_height": null,
            "max_width": null,
            "min_height": null,
            "min_width": null,
            "object_fit": null,
            "object_position": null,
            "order": null,
            "overflow": null,
            "overflow_x": null,
            "overflow_y": null,
            "padding": null,
            "right": null,
            "top": null,
            "visibility": null,
            "width": null
          }
        },
        "d3352f81b5c8487191bfdfd06c69006e": {
          "model_module": "@jupyter-widgets/controls",
          "model_name": "DescriptionStyleModel",
          "model_module_version": "1.5.0",
          "state": {
            "_model_module": "@jupyter-widgets/controls",
            "_model_module_version": "1.5.0",
            "_model_name": "DescriptionStyleModel",
            "_view_count": null,
            "_view_module": "@jupyter-widgets/base",
            "_view_module_version": "1.2.0",
            "_view_name": "StyleView",
            "description_width": ""
          }
        }
      }
    }
  },
  "cells": [
    {
      "cell_type": "markdown",
      "metadata": {
        "id": "view-in-github",
        "colab_type": "text"
      },
      "source": [
        "<a href=\"https://colab.research.google.com/github/Teodil/dataAnaliz/blob/main/lab1.ipynb\" target=\"_parent\"><img src=\"https://colab.research.google.com/assets/colab-badge.svg\" alt=\"Open In Colab\"/></a>"
      ]
    },
    {
      "cell_type": "code",
      "execution_count": null,
      "metadata": {
        "id": "k1ws7jnxYYqH"
      },
      "outputs": [],
      "source": [
        "file1 = open(\"/content/drive/MyDrive/Test.txt\", \"r\")\n",
        "#file1.decode('cp1251').encode('utf8')\n",
        "count = 0;\n",
        "file1.readlines()\n",
        "\n",
        "while True:\n",
        "    # считываем строку\n",
        "    try:\n",
        "      line = file1.readline()\n",
        "      file1.readlines()\n",
        "      # прерываем цикл, если строка пустая\n",
        "      if not line:\n",
        "          break\n",
        "      # выводим строку\n",
        "      print(line.strip())\n",
        "      count += 1\n",
        "    except Exception as ex:\n",
        "      print(ex)\n",
        "\n",
        "# закрываем файл\n",
        "file1.close\n",
        "print(count)"
      ]
    },
    {
      "cell_type": "code",
      "source": [
        "file1 = open(\"/content/drive/MyDrive/ParseData/ParsedData_2.txt\", \"r\")\n",
        "newFile = open('/content/drive/MyDrive/ParseData/TestChecked_3.txt', 'a')\n",
        "while True:\n",
        "    # считываем строку\n",
        "    try:\n",
        "      line = file1.readline()\n",
        "      #file1.readlines()\n",
        "      # прерываем цикл, если строка пустая\n",
        "      if not line:\n",
        "          break\n",
        "      # выводим строку\n",
        "      #print(line.strip())\n",
        "      newFile.writelines(line)\n",
        "      count += 1\n",
        "    except Exception as ex:\n",
        "      print(ex)\n",
        "file1.close()\n",
        "newFile.close()"
      ],
      "metadata": {
        "colab": {
          "base_uri": "https://localhost:8080/"
        },
        "id": "Ski_Mzmla-HE",
        "outputId": "56872249-ccea-444c-8820-a03d000a0fb2"
      },
      "execution_count": null,
      "outputs": [
        {
          "output_type": "stream",
          "name": "stdout",
          "text": [
            "'utf-8' codec can't decode byte 0xd0 in position 2069: invalid continuation byte\n",
            "'utf-8' codec can't decode byte 0xd0 in position 0: invalid continuation byte\n",
            "'utf-8' codec can't decode byte 0xd0 in position 0: invalid continuation byte\n",
            "'utf-8' codec can't decode byte 0xd0 in position 0: invalid continuation byte\n",
            "'utf-8' codec can't decode byte 0xd0 in position 0: invalid continuation byte\n",
            "'utf-8' codec can't decode byte 0xd0 in position 0: invalid continuation byte\n",
            "'utf-8' codec can't decode byte 0xd1 in position 7104: invalid continuation byte\n",
            "'utf-8' codec can't decode byte 0x85 in position 0: invalid start byte\n",
            "'utf-8' codec can't decode byte 0xd0 in position 3511: invalid continuation byte\n",
            "'utf-8' codec can't decode byte 0xb8 in position 0: invalid start byte\n",
            "'utf-8' codec can't decode byte 0xb1 in position 0: invalid start byte\n"
          ]
        }
      ]
    },
    {
      "cell_type": "code",
      "source": [
        "file1 = open(\"/content/drive/MyDrive/ParseData/TestChecked_3.txt\", \"r\")\n",
        "newFile = open('/content/drive/MyDrive/ParseData/TestChecked2021_56.txt', 'a')\n",
        "lines = file1.readlines()\n",
        "count = 42197\n",
        "print(lines[count])\n",
        "while count < len(lines):\n",
        "    # считываем строку\n",
        "    try:\n",
        "      newFile.writelines(lines[count])\n",
        "      count += 1\n",
        "    except Exception as ex:\n",
        "      print(ex)\n",
        "file1.close()\n",
        "newFile.close()"
      ],
      "metadata": {
        "colab": {
          "base_uri": "https://localhost:8080/"
        },
        "id": "960Y2ftiioSK",
        "outputId": "436e23f8-ea2d-488c-9a1a-2d438456cb94"
      },
      "execution_count": null,
      "outputs": [
        {
          "output_type": "stream",
          "name": "stdout",
          "text": [
            "=====\n",
            "\n"
          ]
        }
      ]
    },
    {
      "cell_type": "code",
      "source": [
        "#from os import linesep\n",
        "file1 = open(\"/content/drive/MyDrive/ParseData/TestChecked2021_ready.txt\", \"r\")\n",
        "lines = file1.readlines()\n",
        "count = 0\n",
        "texts = [];\n",
        "#print(len(lines))\n",
        "print(lines[count+7+7+6])\n",
        "\n",
        "while len(texts)<1000:\n",
        "  if count == 0:\n",
        "    add = 5\n",
        "  else:\n",
        "    add = 6\n",
        "  text = lines[count+add]\n",
        "  add += 1\n",
        "  #print(count+add)\n",
        "  #print('->'+text)\n",
        "  while '=====' not in lines[count+add]:\n",
        "    text += ' '+lines[count+add]\n",
        "    #print('->'+text)\n",
        "    add +=1\n",
        "  texts.append(text)\n",
        "  count += add  \n",
        "\n",
        "file1.close()"
      ],
      "metadata": {
        "colab": {
          "base_uri": "https://localhost:8080/"
        },
        "id": "unWBkk0pYbQw",
        "outputId": "3f716c9e-4e74-43ce-c6cb-be2458b24d31"
      },
      "execution_count": null,
      "outputs": [
        {
          "output_type": "stream",
          "name": "stdout",
          "text": [
            "Только стало известно, что Apple лишила китайцев доступа к десяткам тысяч игр на своей платформе, как появилась информация о схожем поступке Huawei. Китайский ИТ-гигант удалил из своего магазина AppGallery все игры разработчика Clash of Clans. Речь идёт о проектах Tencent, которая кроме Clash of Clans известна созданием League of Legends и издательством в Китае PUBG и Monster Hunter: World, передаёт Bloomberg. Согласно данным издания, подобные «телодвижения» связаны с изменениями во взаимодействии компаний, причём инициатором, вроде как, стала сама Tencent. По словам представителей Huawei, Tencent просила прекратить сотрудничество, с чем юридический отдел производителя смартфонов и посоветовал согласиться. Когда Bloomberg обратилась за комментарием к Tencent, её представители заявили, что соглашение между компаниями истекло до того, как могло быть заключено новое. \n",
            "\n"
          ]
        }
      ]
    },
    {
      "cell_type": "code",
      "source": [
        "!pip install ufal.udpipe"
      ],
      "metadata": {
        "colab": {
          "base_uri": "https://localhost:8080/"
        },
        "id": "-Y6tpWj7uOfd",
        "outputId": "0556b288-0d7a-4efb-f40b-12ac97c57237"
      },
      "execution_count": null,
      "outputs": [
        {
          "output_type": "stream",
          "name": "stdout",
          "text": [
            "Collecting ufal.udpipe\n",
            "  Downloading ufal.udpipe-1.2.0.3.tar.gz (304 kB)\n",
            "\u001b[?25l\r\u001b[K     |█                               | 10 kB 17.0 MB/s eta 0:00:01\r\u001b[K     |██▏                             | 20 kB 22.2 MB/s eta 0:00:01\r\u001b[K     |███▎                            | 30 kB 18.2 MB/s eta 0:00:01\r\u001b[K     |████▎                           | 40 kB 15.5 MB/s eta 0:00:01\r\u001b[K     |█████▍                          | 51 kB 8.4 MB/s eta 0:00:01\r\u001b[K     |██████▌                         | 61 kB 9.8 MB/s eta 0:00:01\r\u001b[K     |███████▌                        | 71 kB 9.4 MB/s eta 0:00:01\r\u001b[K     |████████▋                       | 81 kB 9.5 MB/s eta 0:00:01\r\u001b[K     |█████████▊                      | 92 kB 10.5 MB/s eta 0:00:01\r\u001b[K     |██████████▊                     | 102 kB 9.1 MB/s eta 0:00:01\r\u001b[K     |███████████▉                    | 112 kB 9.1 MB/s eta 0:00:01\r\u001b[K     |█████████████                   | 122 kB 9.1 MB/s eta 0:00:01\r\u001b[K     |██████████████                  | 133 kB 9.1 MB/s eta 0:00:01\r\u001b[K     |███████████████                 | 143 kB 9.1 MB/s eta 0:00:01\r\u001b[K     |████████████████▏               | 153 kB 9.1 MB/s eta 0:00:01\r\u001b[K     |█████████████████▎              | 163 kB 9.1 MB/s eta 0:00:01\r\u001b[K     |██████████████████▎             | 174 kB 9.1 MB/s eta 0:00:01\r\u001b[K     |███████████████████▍            | 184 kB 9.1 MB/s eta 0:00:01\r\u001b[K     |████████████████████▌           | 194 kB 9.1 MB/s eta 0:00:01\r\u001b[K     |█████████████████████▌          | 204 kB 9.1 MB/s eta 0:00:01\r\u001b[K     |██████████████████████▋         | 215 kB 9.1 MB/s eta 0:00:01\r\u001b[K     |███████████████████████▊        | 225 kB 9.1 MB/s eta 0:00:01\r\u001b[K     |████████████████████████▉       | 235 kB 9.1 MB/s eta 0:00:01\r\u001b[K     |█████████████████████████▉      | 245 kB 9.1 MB/s eta 0:00:01\r\u001b[K     |███████████████████████████     | 256 kB 9.1 MB/s eta 0:00:01\r\u001b[K     |████████████████████████████    | 266 kB 9.1 MB/s eta 0:00:01\r\u001b[K     |█████████████████████████████   | 276 kB 9.1 MB/s eta 0:00:01\r\u001b[K     |██████████████████████████████▏ | 286 kB 9.1 MB/s eta 0:00:01\r\u001b[K     |███████████████████████████████▎| 296 kB 9.1 MB/s eta 0:00:01\r\u001b[K     |████████████████████████████████| 304 kB 9.1 MB/s \n",
            "\u001b[?25hBuilding wheels for collected packages: ufal.udpipe\n",
            "  Building wheel for ufal.udpipe (setup.py) ... \u001b[?25l\u001b[?25hdone\n",
            "  Created wheel for ufal.udpipe: filename=ufal.udpipe-1.2.0.3-cp37-cp37m-linux_x86_64.whl size=5626970 sha256=dbce1823ce20f94fddc4371299ade69115389a85e13b061c07fb10e22f998deb\n",
            "  Stored in directory: /root/.cache/pip/wheels/b8/b5/8e/3da091629a21ce2d10bf90759d0cb034ba10a5cf7a01e83d64\n",
            "Successfully built ufal.udpipe\n",
            "Installing collected packages: ufal.udpipe\n",
            "Successfully installed ufal.udpipe-1.2.0.3\n"
          ]
        }
      ]
    },
    {
      "cell_type": "code",
      "source": [
        "# Подключаем синтаксической анализатор и его части.\n",
        "import ufal.udpipe\n",
        "from ufal.udpipe import Model, Pipeline, ProcessingError\n",
        "\n",
        "# Для отрисовки деревьев нам потребуются вот эти библиотеки.\n",
        "%matplotlib notebook\n",
        "import matplotlib.pyplot as plt\n",
        "\n",
        "import requests\n",
        "from bs4 import BeautifulSoup as bs\n",
        "\n",
        "from collections import defaultdict\n",
        "from tqdm.auto import tqdm\n",
        "import random"
      ],
      "metadata": {
        "id": "Itrhv3YsuLXl"
      },
      "execution_count": null,
      "outputs": []
    },
    {
      "cell_type": "code",
      "source": [
        "def find_child_Ng(sentence, parent):\n",
        "    children = []\n",
        "    for i, word in enumerate(sentence.words):\n",
        "        if word.head == parent and word.upostag == \"NOUN\" and (\"Case=Nom\" or \"Case=Gen\" or 'Case=Dat' or 'Case=Acc' or 'Case=Loc' or 'Case=Ins') in word.feats:\n",
        "            children.append(i)\n",
        "        if word.head == parent and word.upostag == \"ADP\":\n",
        "            children + find_child_after_ADP(sentence,i)\n",
        "    return children\n",
        "\n",
        "def find_child_after_ADP(sentence, parent):\n",
        "    children = []\n",
        "    for i, word in enumerate(sentence.words):\n",
        "        if word.head == parent and word.upostag == \"NOUN\" and (\"Case=Nom\" or \"Case=Gen\" or 'Case=Dat' or 'Case=Acc' or 'Case=Loc' or 'Case=Ins') in word.feats:\n",
        "            children.append(i)\n",
        "    return children\n",
        "\n",
        "def find_NNg(sentence, combinations):\n",
        "    for i, word in enumerate(sentence.words):\n",
        "        if word.upostag == \"VERB\":\n",
        "            children = find_child_Ng(sentence, i)\n",
        "            if children != []:\n",
        "                #print(word.lemma, [sentence.words[k].form for k in children])\n",
        "                for child in children:\n",
        "                    combinations[word.lemma][sentence.words[child].form] += 1"
      ],
      "metadata": {
        "id": "2WUB9ozgu1hu"
      },
      "execution_count": null,
      "outputs": []
    },
    {
      "cell_type": "code",
      "source": [
        "model = Model.load(\"/content/drive/MyDrive/ParseData/russian-syntagrus-ud-2.5-191206.udpipe\")\n",
        "#Токенизатор со снятием омонимии.\n",
        "tokenizer = model.newTokenizer(model.DEFAULT)\n",
        "# Объект для отображения результатов разбора.\n",
        "conlluOutput = ufal.udpipe.OutputFormat.newOutputFormat(\"conllu\")\n",
        "# Объект предложения, в которое будет осуществляться разбор.\n",
        "sentence = ufal.udpipe.Sentence()\n",
        "# Объект для ошибок, возникающих в ходе разбора.\n",
        "error = ufal.udpipe.ProcessingError()"
      ],
      "metadata": {
        "id": "fs14GtiDul_I"
      },
      "execution_count": null,
      "outputs": []
    },
    {
      "cell_type": "code",
      "source": [
        "tokenizer.setText(texts[0]);\n",
        "# Токенизация.\n",
        "tokenizer.nextSentence(sentence, error)\n",
        "# Морфологичекий анализ со снятием омонимии.\n",
        "model.tag(sentence, model.DEFAULT)\n",
        "# Синтаксический анализ.\n",
        "model.parse(sentence, model.DEFAULT)\n",
        "# Отображение результатов.\n",
        "print(conlluOutput.writeSentence(sentence))"
      ],
      "metadata": {
        "colab": {
          "base_uri": "https://localhost:8080/"
        },
        "id": "zyoAz8s212xm",
        "outputId": "a4627fd3-9e1f-4675-ec46-8094abd81995"
      },
      "execution_count": null,
      "outputs": [
        {
          "output_type": "stream",
          "name": "stdout",
          "text": [
            "# newdoc\n",
            "# newpar\n",
            "# sent_id = 1\n",
            "# text = Исходный код Xiaomi Mi 11 вскрыл разработку нового среднебюджетного процессора Qualcomm Удивительно, как много можно узнать из одной строчки кода На днях стало известно, что энтузиасты наконец-то получили доступ к исходному коду Xiaomi Mi 11.\n",
            "1\tИсходный\tисходный\tADJ\t_\tCase=Nom|Degree=Pos|Gender=Masc|Number=Sing\t2\tamod\t_\t_\n",
            "2\tкод\tкод\tNOUN\t_\tAnimacy=Inan|Case=Nom|Gender=Masc|Number=Sing\t6\tnsubj\t_\t_\n",
            "3\tXiaomi\tXiaomi\tPROPN\t_\tForeign=Yes\t2\tflat:foreign\t_\t_\n",
            "4\tMi\tMi\tPROPN\t_\tForeign=Yes\t2\tflat:foreign\t_\t_\n",
            "5\t11\t11\tNUM\t_\t_\t2\tnummod\t_\t_\n",
            "6\tвскрыл\tвскрыть\tVERB\t_\tAspect=Perf|Gender=Masc|Mood=Ind|Number=Sing|Tense=Past|VerbForm=Fin|Voice=Act\t24\tcsubj\t_\t_\n",
            "7\tразработку\tразработка\tNOUN\t_\tAnimacy=Inan|Case=Acc|Gender=Fem|Number=Sing\t6\tobj\t_\t_\n",
            "8\tнового\tновый\tADJ\t_\tCase=Gen|Degree=Pos|Gender=Masc|Number=Sing\t10\tamod\t_\t_\n",
            "9\tсреднебюджетного\tсреднебюджетный\tADJ\t_\tCase=Gen|Degree=Pos|Gender=Masc|Number=Sing\t10\tamod\t_\t_\n",
            "10\tпроцессора\tпроцессор\tNOUN\t_\tAnimacy=Inan|Case=Gen|Gender=Masc|Number=Sing\t7\tnmod\t_\t_\n",
            "11\tQualcomm\tQualcomm\tPROPN\t_\tForeign=Yes\t10\tflat:foreign\t_\t_\n",
            "12\tУдивительно\tудивительно\tADJ\t_\tDegree=Pos|Gender=Neut|Number=Sing|Variant=Short\t6\tobl\t_\tSpaceAfter=No\n",
            "13\t,\t,\tPUNCT\t_\t_\t16\tpunct\t_\t_\n",
            "14\tкак\tкак\tADV\t_\tDegree=Pos\t15\tadvmod\t_\t_\n",
            "15\tмного\tмного\tADV\t_\tDegree=Pos\t16\tadvmod\t_\t_\n",
            "16\tможно\tможно\tADV\t_\tDegree=Pos\t6\tconj\t_\t_\n",
            "17\tузнать\tузнать\tVERB\t_\tAspect=Perf|VerbForm=Inf|Voice=Act\t16\tcsubj\t_\t_\n",
            "18\tиз\tиз\tADP\t_\t_\t20\tcase\t_\t_\n",
            "19\tодной\tодин\tNUM\t_\tCase=Gen|Gender=Fem\t20\tnummod\t_\t_\n",
            "20\tстрочки\tстрочка\tNOUN\t_\tAnimacy=Inan|Case=Gen|Gender=Fem|Number=Sing\t17\tobl\t_\t_\n",
            "21\tкода\tкод\tNOUN\t_\tAnimacy=Inan|Case=Gen|Gender=Masc|Number=Sing\t20\tnmod\t_\tSpacesAfter=\\n\\s\n",
            "22\tНа\tна\tADP\t_\t_\t23\tcase\t_\t_\n",
            "23\tднях\tдень\tNOUN\t_\tAnimacy=Inan|Case=Loc|Gender=Masc|Number=Plur\t21\tnmod\t_\t_\n",
            "24\tстало\tстать\tVERB\t_\tAspect=Perf|Gender=Neut|Mood=Ind|Number=Sing|Tense=Past|VerbForm=Fin|Voice=Mid\t0\troot\t_\t_\n",
            "25\tизвестно\tизвестный\tADJ\t_\tDegree=Pos|Gender=Neut|Number=Sing|Variant=Short\t24\tobl\t_\tSpaceAfter=No\n",
            "26\t,\t,\tPUNCT\t_\t_\t32\tpunct\t_\t_\n",
            "27\tчто\tчто\tSCONJ\t_\t_\t32\tmark\t_\t_\n",
            "28\tэнтузиасты\tэнтузиаст\tNOUN\t_\tAnimacy=Anim|Case=Nom|Gender=Masc|Number=Plur\t32\tnsubj\t_\t_\n",
            "29\tнаконец\tнаконец\tADV\t_\tDegree=Pos\t32\tadvmod\t_\tSpaceAfter=No\n",
            "30\t-\t-\tPUNCT\t_\t_\t31\tpunct\t_\tSpaceAfter=No\n",
            "31\tто\tто\tPART\t_\t_\t29\tdiscourse\t_\t_\n",
            "32\tполучили\tполучить\tVERB\t_\tAspect=Perf|Mood=Ind|Number=Plur|Tense=Past|VerbForm=Fin|Voice=Act\t24\tccomp\t_\t_\n",
            "33\tдоступ\tдоступ\tNOUN\t_\tAnimacy=Inan|Case=Acc|Gender=Masc|Number=Sing\t32\tobj\t_\t_\n",
            "34\tк\tк\tADP\t_\t_\t36\tcase\t_\t_\n",
            "35\tисходному\tисходный\tADJ\t_\tCase=Dat|Degree=Pos|Gender=Masc|Number=Sing\t36\tamod\t_\t_\n",
            "36\tкоду\tкод\tNOUN\t_\tAnimacy=Inan|Case=Dat|Gender=Masc|Number=Sing\t33\tnmod\t_\t_\n",
            "37\tXiaomi\tXiaomi\tPROPN\t_\tForeign=Yes\t36\tflat:foreign\t_\t_\n",
            "38\tMi\tMi\tPROPN\t_\tForeign=Yes\t36\tflat:foreign\t_\t_\n",
            "39\t11\t11\tNUM\t_\t_\t36\tnummod\t_\tSpaceAfter=No\n",
            "40\t.\t.\tPUNCT\t_\t_\t24\tpunct\t_\t_\n",
            "\n",
            "\n"
          ]
        }
      ]
    },
    {
      "cell_type": "code",
      "source": [
        "for i, word in enumerate(sentence.words):\n",
        "    print(i, \"->\", word.head, word.lemma, \"[\", word.form, \"]\", word.upostag, word.feats, word.deprel, word.misc)"
      ],
      "metadata": {
        "id": "e62GvzO63Ea_",
        "colab": {
          "base_uri": "https://localhost:8080/"
        },
        "outputId": "e4679a86-7526-4500-d135-4f49f3932ff9"
      },
      "execution_count": null,
      "outputs": [
        {
          "output_type": "stream",
          "name": "stdout",
          "text": [
            "0 -> -1 <root> [ <root> ] <root> <root>  \n",
            "1 -> 4 пока [ Пока ] ADV Degree=Pos advmod \n",
            "2 -> 3 весь [ весь ] DET Case=Nom|Gender=Masc|Number=Sing det \n",
            "3 -> 4 мир [ мир ] NOUN Animacy=Inan|Case=Nom|Gender=Masc|Number=Sing nsubj \n",
            "4 -> 0 ждти [ ждёт ] VERB Aspect=Imp|Mood=Ind|Number=Sing|Person=3|Tense=Pres|VerbForm=Fin|Voice=Act root \n",
            "5 -> 4 анонс [ анонса ] NOUN Animacy=Inan|Case=Acc|Gender=Masc|Number=Plur obj \n",
            "6 -> 7 мобильный [ мобильных ] ADJ Case=Gen|Degree=Pos|Number=Plur amod \n",
            "7 -> 5 версия [ версий ] NOUN Animacy=Inan|Case=Gen|Gender=Fem|Number=Plur nmod \n",
            "8 -> 7 видеокарта [ видеокарт ] NOUN Animacy=Inan|Case=Gen|Gender=Fem|Number=Plur nmod \n",
            "9 -> 8 линейка [ линейки ] NOUN Animacy=Inan|Case=Gen|Gender=Fem|Number=Sing nmod \n",
            "10 -> 9 Ampere [ Ampere ] PROPN Foreign=Yes flat:foreign SpaceAfter=No\n",
            "11 -> 14 , [ , ] PUNCT  punct \n",
            "12 -> 13 китайский [ китайские ] ADJ Case=Nom|Degree=Pos|Number=Plur amod \n",
            "13 -> 14 инсайдер [ инсайдеры ] NOUN Animacy=Anim|Case=Nom|Gender=Masc|Number=Plur nsubj \n",
            "14 -> 4 продолжать [ продолжают ] VERB Aspect=Imp|Mood=Ind|Number=Plur|Person=3|Tense=Pres|VerbForm=Fin|Voice=Act conj \n",
            "15 -> 14 удивлять [ удивлять ] VERB Aspect=Imp|VerbForm=Inf|Voice=Act xcomp SpaceAfter=No\n",
            "16 -> 4 . [ . ] PUNCT  punct \n"
          ]
        }
      ]
    },
    {
      "cell_type": "code",
      "source": [
        "def print_sent(sentence, space=\"\", head=0):\n",
        "    for i, word in enumerate(sentence.words):\n",
        "        if word.head == head:\n",
        "            print(space, i, word.form)\n",
        "            print_sent(sentence, space+\"    \", i)\n",
        "\n",
        "print_sent(sentence)"
      ],
      "metadata": {
        "id": "l7lj7QhJ3KqE"
      },
      "execution_count": null,
      "outputs": []
    },
    {
      "cell_type": "code",
      "source": [
        "combinations = defaultdict(lambda:defaultdict(int))\n",
        "\n",
        "for text in tqdm(texts):\n",
        "    tokenizer.setText(text.lower()) # Установить текст.\n",
        "    while tokenizer.nextSentence(sentence, error): # Полчаем следующее предложение.\n",
        "        #print(conlluOutput.writeSentence(sentence))\n",
        "        model.tag(sentence, model.DEFAULT) # Токенизация.\n",
        "        model.parse(sentence, model.DEFAULT) # Синтаксический анализ.\n",
        "        find_NNg(sentence, combinations) # Поиск сочетаний."
      ],
      "metadata": {
        "colab": {
          "base_uri": "https://localhost:8080/",
          "height": 49,
          "referenced_widgets": [
            "fd164f0327ab45b3b3aa4238e8907879",
            "f19a6ab2da1c434dbdea1e89ff7d7c67",
            "9822d4511b6a41b8988ed8473453990e",
            "8a29431a180e4a82ae79a01e4660b256",
            "c179daed16dd4af18603b5e4bf2ded30",
            "363cf86192a541e2ac85678189081977",
            "daf3e6b3ba33411496b2cd3fb173a0bc",
            "f666a11998c74ebc8f5865dc5458e895",
            "5b0abf9092d44d869bfd7fa1b0cbbcf9",
            "2abe9b992f6d48d6a9e0856550d2f2fa",
            "d3352f81b5c8487191bfdfd06c69006e"
          ]
        },
        "id": "0KhluEtQvOTS",
        "outputId": "01710ccc-0c3b-45dc-b5da-7686f39011c0"
      },
      "execution_count": null,
      "outputs": [
        {
          "output_type": "display_data",
          "data": {
            "text/plain": [
              "  0%|          | 0/1000 [00:00<?, ?it/s]"
            ],
            "application/vnd.jupyter.widget-view+json": {
              "version_major": 2,
              "version_minor": 0,
              "model_id": "fd164f0327ab45b3b3aa4238e8907879"
            }
          },
          "metadata": {}
        }
      ]
    },
    {
      "cell_type": "code",
      "source": [
        "elements = []\n",
        "for parent, childs in combinations.items():\n",
        "    for child, freq in childs.items():\n",
        "        if freq > 5:\n",
        "          elements.append([f\"{parent} {child}\", freq])\n",
        "\n",
        "#print(elements)\n",
        "elements.sort(key = lambda x: x[1],reverse=True)"
      ],
      "metadata": {
        "id": "b1MO-pQZYpEr"
      },
      "execution_count": null,
      "outputs": []
    },
    {
      "cell_type": "code",
      "source": [
        "for item in elements:\n",
        "  print(f\"{item[0]} -> {item[1]}\")"
      ],
      "metadata": {
        "colab": {
          "base_uri": "https://localhost:8080/"
        },
        "id": "nBONtRTXbYZR",
        "outputId": "5ec2af9d-8ced-4f3d-f22e-d67e2632f39e"
      },
      "execution_count": null,
      "outputs": [
        {
          "output_type": "stream",
          "name": "stdout",
          "text": [
            "появиться информация -> 63\n",
            "идти речь -> 56\n",
            "получить устройство -> 21\n",
            "представить компания -> 17\n",
            "выпустить компания -> 13\n",
            "писать источники -> 13\n",
            "показать компания -> 12\n",
            "сообщить компания -> 11\n",
            "мочь компания -> 11\n",
            "решить компания -> 11\n",
            "составлять стоимость -> 10\n",
            "получить смартфон -> 9\n",
            "заявить представители -> 9\n",
            "заявить учёные -> 9\n",
            "мочь пользователи -> 9\n",
            "отметить эксперт -> 9\n",
            "писать сми -> 9\n",
            "составить стоимость -> 9\n",
            "анонсировать компания -> 9\n",
            "опубликовать издание -> 9\n",
            "начинаться цены -> 9\n",
            "составлять цена -> 8\n",
            "мочь люди -> 8\n",
            "мочь смартфон -> 8\n",
            "мочь пользователь -> 8\n",
            "разработать учёные -> 8\n",
            "получить модель -> 7\n",
            "получить экран -> 7\n",
            "состояться анонс -> 7\n",
            "начать компания -> 7\n",
            "работать компания -> 7\n",
            "мочь злоумышленники -> 7\n",
            "отметить специалист -> 7\n",
            "представить камера -> 7\n",
            "писать издание -> 7\n",
            "разработать ученые -> 7\n",
            "ходить слухи -> 7\n",
            "принять решение -> 7\n",
            "поддерживать устройство -> 7\n",
            "утверждать компания -> 7\n",
            "получить процессор -> 6\n",
            "рассказать источник -> 6\n",
            "рассказать руководитель -> 6\n",
            "сообщить источники -> 6\n",
            "сообщить издание -> 6\n",
            "работать устройство -> 6\n",
            "работать смартфон -> 6\n",
            "мочь модель -> 6\n",
            "делиться издание -> 6\n",
            "предоставить перевод -> 6\n",
            "готовить компания -> 6\n",
            "продавать игра -> 6\n",
            "изучать исследователи -> 6\n",
            "подготовить специалисты -> 6\n"
          ]
        }
      ]
    },
    {
      "cell_type": "code",
      "source": [
        "for parent, childs in combinations.items():\n",
        "    for child, freq in childs.items():\n",
        "        if freq > 5:\n",
        "          print(parent, child, freq)"
      ],
      "metadata": {
        "id": "dHNOtDpzb8ht"
      },
      "execution_count": null,
      "outputs": []
    }
  ]
}