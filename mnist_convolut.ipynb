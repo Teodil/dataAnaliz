{
  "nbformat": 4,
  "nbformat_minor": 0,
  "metadata": {
    "colab": {
      "provenance": [],
      "collapsed_sections": [],
      "include_colab_link": true
    },
    "kernelspec": {
      "name": "python3",
      "display_name": "Python 3"
    },
    "language_info": {
      "name": "python"
    }
  },
  "cells": [
    {
      "cell_type": "markdown",
      "metadata": {
        "id": "view-in-github",
        "colab_type": "text"
      },
      "source": [
        "<a href=\"https://colab.research.google.com/github/Teodil/dataAnaliz/blob/main/mnist_convolut.ipynb\" target=\"_parent\"><img src=\"https://colab.research.google.com/assets/colab-badge.svg\" alt=\"Open In Colab\"/></a>"
      ]
    },
    {
      "cell_type": "code",
      "metadata": {
        "id": "_bS-fVTd_dna"
      },
      "source": [
        "import numpy as np\n",
        "import pandas as pd\n",
        "import tensorflow as tf\n",
        "import keras\n",
        "from matplotlib import pyplot\n",
        "\n",
        "import cv2"
      ],
      "execution_count": null,
      "outputs": []
    },
    {
      "cell_type": "code",
      "metadata": {
        "id": "zgvAAMkc_wIH"
      },
      "source": [
        "(xtrain, ytrain), (xtest, ytest) = tf.keras.datasets.fashion_mnist.load_data()"
      ],
      "execution_count": null,
      "outputs": []
    },
    {
      "cell_type": "markdown",
      "metadata": {
        "id": "xW1Z3WFEK-pu"
      },
      "source": [
        "**Преобразуем цифровые метки классов в бинарные категории one-hot encoding**"
      ]
    },
    {
      "cell_type": "code",
      "metadata": {
        "id": "uvdzZgZ7A-3e"
      },
      "source": [
        "ytrain_t = tf.keras.utils.to_categorical(ytrain)\n",
        "ytest_t = tf.keras.utils.to_categorical(ytest)"
      ],
      "execution_count": null,
      "outputs": []
    },
    {
      "cell_type": "markdown",
      "metadata": {
        "id": "nRnf4pryLU-n"
      },
      "source": [
        "**Входные данные (обучающие и тестовые) в виде интенсивности цветов также нужно преобразовать:**\n",
        "1. **Исходный массив нужно преобразовать к 4-мерному тензору функцией reshape: (объем выборки, высота, ширина, кол-во цветовых каналов). По-хорошему, следует извлекать эти данные из масива типа len(xtrain), xtrain[0].shape и т.д., но в данном случае мы знаем структуру данных.**\n",
        "2. **Нужно нормировать интенсивности, преобразовав к типу float32, а затем разделив на максимальную интенсивность - 255 (если не преобразовать к дробному типу, то не получится разделить)**"
      ]
    },
    {
      "cell_type": "code",
      "metadata": {
        "id": "lJ7sJnM-GeZk",
        "colab": {
          "base_uri": "https://localhost:8080/",
          "height": 235
        },
        "outputId": "684fffda-c39f-4e44-97ce-f7d243e6096b"
      },
      "source": [
        "xtrain_t = tf.reshape(xtrain, (60000, 28, 28, 1))\n",
        "xtrain_t = tf.cast(xtrain_t, tf.float32) / 255.0\n",
        "\n",
        "xtest_t = tf.reshape(xtest, (10000, 28, 28, 1))\n",
        "xtest_t = tf.cast(xtest_t, tf.float32) / 255.0\n"
      ],
      "execution_count": null,
      "outputs": [
        {
          "output_type": "error",
          "ename": "NameError",
          "evalue": "ignored",
          "traceback": [
            "\u001b[0;31m---------------------------------------------------------------------------\u001b[0m",
            "\u001b[0;31mNameError\u001b[0m                                 Traceback (most recent call last)",
            "\u001b[0;32m<ipython-input-1-9043e8121ebe>\u001b[0m in \u001b[0;36m<module>\u001b[0;34m()\u001b[0m\n\u001b[0;32m----> 1\u001b[0;31m \u001b[0mxtrain_t\u001b[0m \u001b[0;34m=\u001b[0m \u001b[0mtf\u001b[0m\u001b[0;34m.\u001b[0m\u001b[0mreshape\u001b[0m\u001b[0;34m(\u001b[0m\u001b[0mxtrain\u001b[0m\u001b[0;34m,\u001b[0m \u001b[0;34m(\u001b[0m\u001b[0;36m60000\u001b[0m\u001b[0;34m,\u001b[0m \u001b[0;36m28\u001b[0m\u001b[0;34m,\u001b[0m \u001b[0;36m28\u001b[0m\u001b[0;34m,\u001b[0m \u001b[0;36m1\u001b[0m\u001b[0;34m)\u001b[0m\u001b[0;34m)\u001b[0m\u001b[0;34m\u001b[0m\u001b[0;34m\u001b[0m\u001b[0m\n\u001b[0m\u001b[1;32m      2\u001b[0m \u001b[0mxtrain_t\u001b[0m \u001b[0;34m=\u001b[0m \u001b[0mtf\u001b[0m\u001b[0;34m.\u001b[0m\u001b[0mcast\u001b[0m\u001b[0;34m(\u001b[0m\u001b[0mxtrain_t\u001b[0m\u001b[0;34m,\u001b[0m \u001b[0mtf\u001b[0m\u001b[0;34m.\u001b[0m\u001b[0mfloat32\u001b[0m\u001b[0;34m)\u001b[0m \u001b[0;34m/\u001b[0m \u001b[0;36m255.0\u001b[0m\u001b[0;34m\u001b[0m\u001b[0;34m\u001b[0m\u001b[0m\n\u001b[1;32m      3\u001b[0m \u001b[0;34m\u001b[0m\u001b[0m\n\u001b[1;32m      4\u001b[0m \u001b[0mxtest_t\u001b[0m \u001b[0;34m=\u001b[0m \u001b[0mtf\u001b[0m\u001b[0;34m.\u001b[0m\u001b[0mreshape\u001b[0m\u001b[0;34m(\u001b[0m\u001b[0mxtest\u001b[0m\u001b[0;34m,\u001b[0m \u001b[0;34m(\u001b[0m\u001b[0;36m10000\u001b[0m\u001b[0;34m,\u001b[0m \u001b[0;36m28\u001b[0m\u001b[0;34m,\u001b[0m \u001b[0;36m28\u001b[0m\u001b[0;34m,\u001b[0m \u001b[0;36m1\u001b[0m\u001b[0;34m)\u001b[0m\u001b[0;34m)\u001b[0m\u001b[0;34m\u001b[0m\u001b[0;34m\u001b[0m\u001b[0m\n\u001b[1;32m      5\u001b[0m \u001b[0mxtest_t\u001b[0m \u001b[0;34m=\u001b[0m \u001b[0mtf\u001b[0m\u001b[0;34m.\u001b[0m\u001b[0mcast\u001b[0m\u001b[0;34m(\u001b[0m\u001b[0mxtest_t\u001b[0m\u001b[0;34m,\u001b[0m \u001b[0mtf\u001b[0m\u001b[0;34m.\u001b[0m\u001b[0mfloat32\u001b[0m\u001b[0;34m)\u001b[0m \u001b[0;34m/\u001b[0m \u001b[0;36m255.0\u001b[0m\u001b[0;34m\u001b[0m\u001b[0;34m\u001b[0m\u001b[0m\n",
            "\u001b[0;31mNameError\u001b[0m: name 'tf' is not defined"
          ]
        }
      ]
    },
    {
      "cell_type": "markdown",
      "metadata": {
        "id": "bk63DC--Ml-o"
      },
      "source": [
        "Вся основная магия - в структуре модели.\n",
        "Добавляем новые типы слоев: сверточный и пулинг (обычно их используют такими парами). Здесь на функциях свертки и пулинга я останавливаться не буду - посмотрите отдельно. Важно обратить внимание на параметры.\n",
        "1. Сверточный слой. Кол-во ядер свертки filters (фильтров, содержащих характерные свойства элементов изображений), размер этих матриц свертки (kernel): часто используют (3x3). Попробуйте поменять их размер на (5,5). параметр input_shape определяет размер входного тензора - размеры картинки: 28x28 пикселей с одним цветовым каналом (интенсивность серого). Есть еще параметр padding - используется бля прохода центра свертки по краю картинки (посмотрите информацию в теории). Попробуйте его тоже применить.\n",
        "2. Пулинг - обычно используется матрица 2x2 для выбора максимального значения.\n",
        "3. Абстрактный слой Flatten, который просто разворачивает танзоры в линию и связывает с полносвязным классификатором Dense.  \n",
        "\n",
        "Попробуйте более одного слоя свертки (осторожно: сильно падает скорость обучения!)"
      ]
    },
    {
      "cell_type": "code",
      "metadata": {
        "id": "McgDbYbkCjC2"
      },
      "source": [
        "model = tf.keras.Sequential([\n",
        "      tf.keras.layers.Conv2D(filters=64, kernel_size=(5,5), activation='relu', input_shape = (28,28,1)),\n",
        "      tf.keras.layers.MaxPooling2D(pool_size=(2,2)),\n",
        "      #tf.keras.layers.Conv2D(filters=32, kernel_size=(3,3), activation='relu'),\n",
        "      #tf.keras.layers.MaxPooling2D((2,2)),\n",
        "      tf.keras.layers.Flatten(),\n",
        "      tf.keras.layers.Dense(units = 320, activation = 'relu'),\n",
        "      tf.keras.layers.Dense(units = 10, activation = 'softmax')\n",
        "])"
      ],
      "execution_count": null,
      "outputs": []
    },
    {
      "cell_type": "markdown",
      "metadata": {
        "id": "YK62ct3iPX4Y"
      },
      "source": [
        "**Попробуйте также разные параметры обучения:**"
      ]
    },
    {
      "cell_type": "code",
      "metadata": {
        "id": "i2UOl9hCEsZT"
      },
      "source": [
        "model.compile(optimizer='adam', loss='categorical_crossentropy', metrics=['accuracy'])"
      ],
      "execution_count": null,
      "outputs": []
    },
    {
      "cell_type": "markdown",
      "metadata": {
        "id": "oaCCebrBPfNs"
      },
      "source": [
        "**Поразиться количеству настраиваемых параметров модели:**"
      ]
    },
    {
      "cell_type": "code",
      "metadata": {
        "id": "agztHoztFZ9S"
      },
      "source": [
        "model.summary()"
      ],
      "execution_count": null,
      "outputs": []
    },
    {
      "cell_type": "markdown",
      "metadata": {
        "id": "A-VC1Mw6Ps31"
      },
      "source": [
        "**Не стоит задавать много эпох. Даже на 4-х эпохах можно пойти попить чай**"
      ]
    },
    {
      "cell_type": "code",
      "metadata": {
        "colab": {
          "base_uri": "https://localhost:8080/"
        },
        "id": "yV-mmKTdFCAb",
        "outputId": "52aa0181-f4e8-4f84-cb17-72134e2005d6"
      },
      "source": [
        "hist = model.fit(xtrain_t, ytrain_t, batch_size = 128, epochs=4)"
      ],
      "execution_count": null,
      "outputs": [
        {
          "output_type": "stream",
          "name": "stdout",
          "text": [
            "Epoch 1/4\n",
            "469/469 [==============================] - 68s 145ms/step - loss: 0.4292 - accuracy: 0.8462\n",
            "Epoch 2/4\n",
            "469/469 [==============================] - 65s 139ms/step - loss: 0.2862 - accuracy: 0.8956\n",
            "Epoch 3/4\n",
            "469/469 [==============================] - 65s 138ms/step - loss: 0.2421 - accuracy: 0.9114\n",
            "Epoch 4/4\n",
            "469/469 [==============================] - 65s 138ms/step - loss: 0.2093 - accuracy: 0.9223\n"
          ]
        }
      ]
    },
    {
      "cell_type": "code",
      "metadata": {
        "colab": {
          "base_uri": "https://localhost:8080/",
          "height": 279
        },
        "id": "hF7551YYO3Jh",
        "outputId": "34f64608-85db-4ed7-efbf-7adc592855c4"
      },
      "source": [
        "pyplot.plot(hist.history['loss'])\n",
        "pyplot.plot(hist.history['accuracy'])\n",
        "pyplot.xlabel('Epoch')\n",
        "pyplot.legend(['Loss', 'Accuracy'])\n",
        "pyplot.show()"
      ],
      "execution_count": null,
      "outputs": [
        {
          "output_type": "display_data",
          "data": {
            "image/png": "[encoded data removed]",
            "text/plain": [
              "<Figure size 432x288 with 1 Axes>"
            ]
          },
          "metadata": {
            "needs_background": "light"
          }
        }
      ]
    },
    {
      "cell_type": "code",
      "metadata": {
        "colab": {
          "base_uri": "https://localhost:8080/"
        },
        "id": "ZgP8_JiEPAX7",
        "outputId": "967e1318-4cef-4e1e-d4b5-1cb156fe8a3c"
      },
      "source": [
        "test_loss, test_acc = model.evaluate(xtest_t, ytest_t)\n",
        "print(\"loss:\", test_loss, \"; accuracy:\", test_acc)"
      ],
      "execution_count": null,
      "outputs": [
        {
          "output_type": "stream",
          "name": "stdout",
          "text": [
            "313/313 [==============================] - 4s 12ms/step - loss: 0.2683 - accuracy: 0.9003\n",
            "loss: 0.2683320939540863 ; accuracy: 0.9003000259399414\n"
          ]
        }
      ]
    },
    {
      "cell_type": "markdown",
      "metadata": {
        "id": "SgaH52mCQI8s"
      },
      "source": [
        "**Согласно различным источникам в интернете, данный датасет является \"challenging\" и добиться 100% качества обучения не удавалось: обычно это от 90 до 95%. Некоторые изображения даже визуально трудно классифицировать. Низкое качество изображений и их деталей: свитер легко спутать с рубашкой**\n",
        "**Подбирать оптимальную настройку параетров сети - занятие довольно затратное по времени.**"
      ]
    },
    {
      "cell_type": "markdown",
      "metadata": {
        "id": "tJ4QothDSRH-"
      },
      "source": [
        "Проведем тесты вручную, посмотрим отдельные экземпляры гарбероба:"
      ]
    },
    {
      "cell_type": "code",
      "metadata": {
        "id": "03IwSvkfpSUk"
      },
      "source": [
        "y_pred = model.predict(xtest_t)\n"
      ],
      "execution_count": null,
      "outputs": []
    },
    {
      "cell_type": "code",
      "metadata": {
        "colab": {
          "base_uri": "https://localhost:8080/",
          "height": 283
        },
        "id": "bYobtap4qL2q",
        "outputId": "2fcdd53b-2c9b-4ca3-b53c-cd9215b5ebaa"
      },
      "source": [
        "labels = ['T-shirt/top', 'Trouser', 'Pullover', 'Dress', 'Coat', 'Sandal', 'Shirt', 'Sneaker', 'Bag', 'Ankle boot']\n",
        "\n",
        "test_index = 9235\n",
        "pyplot.imshow(xtest[test_index], cmap='gray')\n"
      ],
      "execution_count": null,
      "outputs": [
        {
          "output_type": "execute_result",
          "data": {
            "text/plain": [
              "<matplotlib.image.AxesImage at 0x7f24b9018210>"
            ]
          },
          "metadata": {},
          "execution_count": 154
        },
        {
          "output_type": "display_data",
          "data": {
            "image/png": "[encoded data removed]",
            "text/plain": [
              "<Figure size 432x288 with 1 Axes>"
            ]
          },
          "metadata": {
            "needs_background": "light"
          }
        }
      ]
    },
    {
      "cell_type": "code",
      "metadata": {
        "colab": {
          "base_uri": "https://localhost:8080/"
        },
        "id": "8hnsGLy-xbSO",
        "outputId": "04e1286f-86ab-4d82-823d-5c9d321448d8"
      },
      "source": [
        "pred_val = np.argmax( y_pred[test_index])\n",
        "real_val = ytest[test_index]\n",
        "print(\"Нейросеть считает:\", labels[pred_val], \"\\nНа самом деле:\", labels[real_val])"
      ],
      "execution_count": null,
      "outputs": [
        {
          "output_type": "stream",
          "name": "stdout",
          "text": [
            "Нейросеть считает: Coat \n",
            "На самом деле: Dress\n"
          ]
        }
      ]
    },
    {
      "cell_type": "code",
      "metadata": {
        "id": "MZg87UQXx5Cv"
      },
      "source": [
        "y_cat = np.argmax(y_pred, axis = 1)\n",
        "errCount = 0\n",
        "for i in range(len(y_cat)):\n",
        "  if y_cat[i] != ytest[i]:\n",
        "    print(\"Тест №\", i, \"провален\")\n",
        "    errCount += 1\n",
        "print(errCount, \"из\", len(y_cat), \"неверных ответов\")"
      ],
      "execution_count": null,
      "outputs": []
    },
    {
      "cell_type": "markdown",
      "metadata": {
        "id": "n7F_WGLTSjb0"
      },
      "source": [
        "**Посмотрим, как работает обученная нейросеть с произвольными картинками из интернета.** \n",
        "\n",
        "Важно помнить, что сеть ориентирована только на один цветовой канал - градации серого. Поэтому придется их преобразовывать и сжимать до формата входного тензора сети, т.е. (28 ширина, 28 высота, 1 канал).\n",
        "\n",
        "Для предобработки используем биб-ку OpenCV - cv2 - библиотека машинного зрения, которая включает в себя много полезных функций рутиной предобработки изображений. Ее не нужно устанавливать - в collab она уже встроена!\n",
        "\n",
        "**Как сюда загружать картинки?**\n",
        "* Можно тянуть прямо по гиперссылке из интернета, но там больше действий. Если так хотите, то ищите код сами.\n",
        "* Картинки можно загрузить в рабочее пространство, но **только на время текущей сессии**! В данном ноутбуке именно такой способ. Слева есть пиктограмма папки: жмите ее, откроется фрем \"Файлы\" (корневая папка, sample_data). Жмете правой кнопкой - меню \"Загрузить\". ВЫбираете с диска файлы и загружаете.\n",
        "* Можете открыть доступ к данным своего google-диска.\n",
        "\n",
        "После загрузки узнать путь к этому файлу можно правой кнопкой по нему."
      ]
    },
    {
      "cell_type": "code",
      "metadata": {
        "colab": {
          "base_uri": "https://localhost:8080/",
          "height": 265
        },
        "id": "lcjK8VL0fdIb",
        "outputId": "b9ed6a9c-31cd-4b14-910c-5e6940c676ad"
      },
      "source": [
        "#загружаем картинку\n",
        "img = cv2.imread('/content/sample_data/tshirt02.jpg')\n",
        "\n",
        "#преобразуем к градациям серого\n",
        "gray = cv2.cvtColor(img, cv2.COLOR_BGR2GRAY )\n",
        "\n",
        "#интересный момент предобработи! для накоторых произвольных картинок\n",
        "#нужно добавить пространство вокруг (рамку). Величина этой рамки, понятно, зависит\n",
        "#от размеров картинки, и лучше добавлять в процентном соотношении, но для обычно используемых\n",
        "#изображений в сотни пикселей - достаточно 50 (особенно это хорошо видно на штанах trouser02.jpg)\n",
        "#а для некоторых картинок она не нужна. т.е. имеет место еще немалая работа по подготовке качественных картинок\n",
        "gray = cv2.copyMakeBorder(gray, 50, 50, 50, 50, cv2.BORDER_CONSTANT, None, value = 255)\n",
        "\n",
        "#уменьшаем картинку до размеров 28x28 пикселей\n",
        "resized = cv2.resize(gray, (28,28), interpolation = cv2.INTER_AREA)\n",
        "#посмотрим, что там получилось\n",
        "pyplot.imshow(resized , cmap='gray')\n",
        "pyplot.show()"
      ],
      "execution_count": null,
      "outputs": [
        {
          "output_type": "display_data",
          "data": {
            "image/png": "[encoded data removed]",
            "text/plain": [
              "<Figure size 432x288 with 1 Axes>"
            ]
          },
          "metadata": {
            "needs_background": "light"
          }
        }
      ]
    },
    {
      "cell_type": "markdown",
      "metadata": {
        "id": "jczf2DUzW_fz"
      },
      "source": [
        "Готовим данные картинки непосредственно для ввода в нейросеть - интенсивности пикселей нужно отформатировать под входной 4-мерный тензор (1 пример, 28 пикс, 28 пикс, 1 канал), далее, как и при обучении нужно нормировать, преобразовав числа во float (если не преобразовать, то не получится разделить на 255)\n",
        "\n",
        "**Важный момент!**\n",
        "Мы обучали картинки на черном фоне - т.е. фон никаких сигналов не посылал. В данных примерах фон фонит на полную интенсивность. Это не есть хорошо. По-хорошему его надо перекрасить, но мы для простоты просто инвертируем цвета: (1.0 - color)"
      ]
    },
    {
      "cell_type": "code",
      "metadata": {
        "colab": {
          "base_uri": "https://localhost:8080/"
        },
        "id": "OkSTEJ1F3O4I",
        "outputId": "e0aa2a27-f07c-4651-be2b-c5279d9bffab"
      },
      "source": [
        "pred_image = tf.reshape(resized,(1,28,28,1))\n",
        "pred_image = tf.cast(pred_image, tf.float32)\n",
        "pred_image = 1.0 - pred_image / 255.0\n",
        "\n",
        "#делаем predict для одного примера, получаем сигналы выходов\n",
        "image_pred = model.predict(pred_image)\n",
        "\n",
        "#смотрим, какой сигнал \"громче\" всех и выбираем соответствующую метку:\n",
        "#print(image_pred)\n",
        "print(labels[ np.argmax(image_pred) ])"
      ],
      "execution_count": null,
      "outputs": [
        {
          "output_type": "stream",
          "name": "stdout",
          "text": [
            "T-shirt/top\n"
          ]
        }
      ]
    }
  ]
}